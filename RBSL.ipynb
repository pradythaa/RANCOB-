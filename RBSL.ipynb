{
 "cells": [
  {
   "cell_type": "code",
   "execution_count": 1,
   "id": "a47a7c21",
   "metadata": {},
   "outputs": [],
   "source": [
    "import numpy as np\n",
    "import pandas as pd\n",
    "from scipy.stats import f"
   ]
  },
  {
   "cell_type": "code",
   "execution_count": 10,
   "id": "efc6462a",
   "metadata": {},
   "outputs": [
    {
     "name": "stdout",
     "output_type": "stream",
     "text": [
      "Data Produksi Tomat (kuintal/ha):\n",
      "[[5.1 9.7 5.9 7.1 6.2]\n",
      " [5.4 9.1 5.9 9.5 7.2]\n",
      " [5.2 9.5 9.5 9.1 7.6]\n",
      " [7.4 9.9 9.6 6.5 7.5]\n",
      " [9.9 7.9 7.3 6.5 8.4]]\n",
      "\n",
      "Label Perlakuan:\n",
      "[['A' 'B' 'C' 'D' 'E']\n",
      " ['B' 'C' 'D' 'E' 'A']\n",
      " ['C' 'D' 'E' 'A' 'B']\n",
      " ['D' 'E' 'A' 'B' 'C']\n",
      " ['E' 'A' 'B' 'C' 'D']]\n",
      "\n",
      "Faktor Koreksi (T): 192.9\n",
      "Jumlah Data (n): 25\n"
     ]
    }
   ],
   "source": [
    "# Data produksi tomat (kuintal/ha)\n",
    "data_matrix = np.array([\n",
    "    [5.1, 9.7, 5.9, 7.1, 6.2],\n",
    "    [5.4, 9.1, 5.9, 9.5, 7.2],\n",
    "    [5.2, 9.5, 9.5, 9.1, 7.6],\n",
    "    [7.4, 9.9, 9.6, 6.5, 7.5],\n",
    "    [9.9, 7.9, 7.3, 6.5, 8.4]\n",
    "])\n",
    "\n",
    "# Label perlakuan untuk setiap sel percobaan (harus sesuai desain Latin)\n",
    "perlakuan_labels = np.array([\n",
    "    ['A', 'B', 'C', 'D', 'E'],\n",
    "    ['B', 'C', 'D', 'E', 'A'],\n",
    "    ['C', 'D', 'E', 'A', 'B'],\n",
    "    ['D', 'E', 'A', 'B', 'C'],\n",
    "    ['E', 'A', 'B', 'C', 'D']\n",
    "])\n",
    "\n",
    "# Faktor koreksi\n",
    "T = data_matrix.sum()\n",
    "n = data_matrix.size\n",
    "\n",
    "print(\"Data Produksi Tomat (kuintal/ha):\")\n",
    "print(data_matrix) \n",
    "print(\"\\nLabel Perlakuan:\")\n",
    "print(perlakuan_labels)\n",
    "print(\"\\nFaktor Koreksi (T):\", T)\n",
    "print(\"Jumlah Data (n):\", n)"
   ]
  },
  {
   "cell_type": "code",
   "execution_count": 11,
   "id": "ea28a265",
   "metadata": {},
   "outputs": [],
   "source": [
    "# Langkah 1: Total dan Faktor Koreksi (FK)\n",
    "T = data_matrix.sum()\n",
    "FK = T**2 / n"
   ]
  },
  {
   "cell_type": "code",
   "execution_count": 12,
   "id": "2f8933d8",
   "metadata": {},
   "outputs": [
    {
     "name": "stdout",
     "output_type": "stream",
     "text": [
      "Total (T): 192.9\n",
      "Faktor Koreksi (FK): 1488.4164\n"
     ]
    }
   ],
   "source": [
    "print(f\"Total (T): {T}\")\n",
    "print(f\"Faktor Koreksi (FK): {FK}\")"
   ]
  },
  {
   "cell_type": "code",
   "execution_count": 5,
   "id": "78b61802",
   "metadata": {},
   "outputs": [],
   "source": [
    "# Langkah 2: Jumlah Kuadrat Total (JKT)\n",
    "JKT = np.sum(data_matrix**2) - FK"
   ]
  },
  {
   "cell_type": "code",
   "execution_count": 6,
   "id": "cd975269",
   "metadata": {},
   "outputs": [
    {
     "name": "stdout",
     "output_type": "stream",
     "text": [
      "Total (JKT): 62.27359999999999\n"
     ]
    }
   ],
   "source": [
    "print(f\"Total (JKT): {JKT}\")"
   ]
  },
  {
   "cell_type": "code",
   "execution_count": 7,
   "id": "c604bfe0",
   "metadata": {},
   "outputs": [
    {
     "name": "stdout",
     "output_type": "stream",
     "text": [
      "Jumlah Kuadrat Baris (JK_baris): 7.1895999999997\n",
      "Jumlah Kuadrat Kolom (JK_kolom): 18.13359999999966\n"
     ]
    }
   ],
   "source": [
    "# Langkah 3: Jumlah Kuadrat Baris dan Kolom\n",
    "total_baris = data_matrix.sum(axis=1)\n",
    "total_kolom = data_matrix.sum(axis=0)\n",
    "JK_baris = np.sum(total_baris**2) / 5 - FK\n",
    "JK_kolom = np.sum(total_kolom**2) / 5 - FK\n",
    "\n",
    "print(f\"Jumlah Kuadrat Baris (JK_baris): {JK_baris}\")\n",
    "print(f\"Jumlah Kuadrat Kolom (JK_kolom): {JK_kolom}\")"
   ]
  },
  {
   "cell_type": "code",
   "execution_count": 13,
   "id": "aa87e188",
   "metadata": {},
   "outputs": [
    {
     "name": "stdout",
     "output_type": "stream",
     "text": [
      "JK Perlakuan = 12.9816\n"
     ]
    }
   ],
   "source": [
    "# Hitung total per perlakuan\n",
    "perlakuan_total = {p: data_matrix[perlakuan_labels == p].sum() for p in np.unique(perlakuan_labels)}\n",
    "\n",
    "# Hitung JK Perlakuan\n",
    "r = 5  # tiap perlakuan muncul 5 kali\n",
    "JK_perlakuan = sum(Ti**2 for Ti in perlakuan_total.values()) / r - FK\n",
    "\n",
    "print(\"JK Perlakuan =\", round(JK_perlakuan, 4))"
   ]
  },
  {
   "cell_type": "code",
   "execution_count": 14,
   "id": "1b929024",
   "metadata": {},
   "outputs": [
    {
     "name": "stdout",
     "output_type": "stream",
     "text": [
      "JK Galat: 23.968800000000783\n"
     ]
    }
   ],
   "source": [
    "# Langkah 5: JK Galat\n",
    "JK_galat = JKT - JK_baris - JK_kolom - JK_perlakuan\n",
    "print(f\"JK Galat: {JK_galat}\")"
   ]
  },
  {
   "cell_type": "code",
   "execution_count": 15,
   "id": "c8a0d855",
   "metadata": {},
   "outputs": [],
   "source": [
    "# Derajat Bebas\n",
    "db_baris = 4\n",
    "db_kolom = 4\n",
    "db_perlakuan = 4\n",
    "db_galat = 12"
   ]
  },
  {
   "cell_type": "code",
   "execution_count": 16,
   "id": "51ba5731",
   "metadata": {},
   "outputs": [
    {
     "name": "stdout",
     "output_type": "stream",
     "text": [
      "Kuadrat Tengah Baris (KT_baris): 1.797399999999925\n",
      "Kuadrat Tengah Kolom (KT_kolom): 4.533399999999915\n",
      "Kuadrat Tengah Perlakuan (KT_perlakuan): 3.245399999999961\n",
      "Kuadrat Tengah Galat (KT_galat): 1.9974000000000653\n"
     ]
    }
   ],
   "source": [
    "# Kuadrat Tengah\n",
    "KT_baris = JK_baris / db_baris\n",
    "KT_kolom = JK_kolom / db_kolom\n",
    "KT_perlakuan = JK_perlakuan / db_perlakuan\n",
    "KT_galat = JK_galat / db_galat\n",
    "\n",
    "print(f\"Kuadrat Tengah Baris (KT_baris): {KT_baris}\")\n",
    "print(f\"Kuadrat Tengah Kolom (KT_kolom): {KT_kolom}\")\n",
    "print(f\"Kuadrat Tengah Perlakuan (KT_perlakuan): {KT_perlakuan}\")\n",
    "print(f\"Kuadrat Tengah Galat (KT_galat): {KT_galat}\")"
   ]
  },
  {
   "cell_type": "code",
   "execution_count": 17,
   "id": "316cae3e",
   "metadata": {},
   "outputs": [
    {
     "name": "stdout",
     "output_type": "stream",
     "text": [
      "F Hitung Perlakuan: 1.62481225593264\n"
     ]
    }
   ],
   "source": [
    "# F Hitung Perlakuan\n",
    "F_perlakuan = KT_perlakuan / KT_galat\n",
    "print(f\"F Hitung Perlakuan: {F_perlakuan}\")"
   ]
  },
  {
   "cell_type": "code",
   "execution_count": 18,
   "id": "16d7375c",
   "metadata": {},
   "outputs": [
    {
     "name": "stdout",
     "output_type": "stream",
     "text": [
      "F Tabel (5%): 3.259166726901249\n",
      "F Tabel (1%): 5.4119514344731385\n"
     ]
    }
   ],
   "source": [
    "# F Tabel (5% dan 1% signifikansi)\n",
    "F_tabel_5 = f.ppf(0.95, db_perlakuan, db_galat)\n",
    "F_tabel_1 = f.ppf(0.99, db_perlakuan, db_galat)\n",
    "print(f\"F Tabel (5%): {F_tabel_5}\")\n",
    "print(f\"F Tabel (1%): {F_tabel_1}\")"
   ]
  },
  {
   "cell_type": "code",
   "execution_count": 19,
   "id": "59358f2d",
   "metadata": {},
   "outputs": [
    {
     "data": {
      "text/html": [
       "<div>\n",
       "<style scoped>\n",
       "    .dataframe tbody tr th:only-of-type {\n",
       "        vertical-align: middle;\n",
       "    }\n",
       "\n",
       "    .dataframe tbody tr th {\n",
       "        vertical-align: top;\n",
       "    }\n",
       "\n",
       "    .dataframe thead th {\n",
       "        text-align: right;\n",
       "    }\n",
       "</style>\n",
       "<table border=\"1\" class=\"dataframe\">\n",
       "  <thead>\n",
       "    <tr style=\"text-align: right;\">\n",
       "      <th></th>\n",
       "      <th>Nilai</th>\n",
       "    </tr>\n",
       "  </thead>\n",
       "  <tbody>\n",
       "    <tr>\n",
       "      <th>Total</th>\n",
       "      <td>192.9</td>\n",
       "    </tr>\n",
       "    <tr>\n",
       "      <th>Faktor Koreksi (FK)</th>\n",
       "      <td>1488.4164</td>\n",
       "    </tr>\n",
       "    <tr>\n",
       "      <th>JKT</th>\n",
       "      <td>62.2736</td>\n",
       "    </tr>\n",
       "    <tr>\n",
       "      <th>JK Baris</th>\n",
       "      <td>7.1896</td>\n",
       "    </tr>\n",
       "    <tr>\n",
       "      <th>JK Kolom</th>\n",
       "      <td>18.1336</td>\n",
       "    </tr>\n",
       "    <tr>\n",
       "      <th>JK Perlakuan</th>\n",
       "      <td>12.9816</td>\n",
       "    </tr>\n",
       "    <tr>\n",
       "      <th>JK Galat</th>\n",
       "      <td>23.9688</td>\n",
       "    </tr>\n",
       "    <tr>\n",
       "      <th>KT Perlakuan</th>\n",
       "      <td>3.2454</td>\n",
       "    </tr>\n",
       "    <tr>\n",
       "      <th>KT Galat</th>\n",
       "      <td>1.9974</td>\n",
       "    </tr>\n",
       "    <tr>\n",
       "      <th>F Hitung Perlakuan</th>\n",
       "      <td>1.624812</td>\n",
       "    </tr>\n",
       "    <tr>\n",
       "      <th>F Tabel 5%</th>\n",
       "      <td>3.259167</td>\n",
       "    </tr>\n",
       "    <tr>\n",
       "      <th>F Tabel 1%</th>\n",
       "      <td>5.411951</td>\n",
       "    </tr>\n",
       "    <tr>\n",
       "      <th>Keputusan</th>\n",
       "      <td>Gagal Tolak H0 (tidak ada pengaruh signifikan)</td>\n",
       "    </tr>\n",
       "  </tbody>\n",
       "</table>\n",
       "</div>"
      ],
      "text/plain": [
       "                                                              Nilai\n",
       "Total                                                         192.9\n",
       "Faktor Koreksi (FK)                                       1488.4164\n",
       "JKT                                                         62.2736\n",
       "JK Baris                                                     7.1896\n",
       "JK Kolom                                                    18.1336\n",
       "JK Perlakuan                                                12.9816\n",
       "JK Galat                                                    23.9688\n",
       "KT Perlakuan                                                 3.2454\n",
       "KT Galat                                                     1.9974\n",
       "F Hitung Perlakuan                                         1.624812\n",
       "F Tabel 5%                                                 3.259167\n",
       "F Tabel 1%                                                 5.411951\n",
       "Keputusan            Gagal Tolak H0 (tidak ada pengaruh signifikan)"
      ]
     },
     "execution_count": 19,
     "metadata": {},
     "output_type": "execute_result"
    }
   ],
   "source": [
    "# Hasil analisis dalam bentuk dictionary\n",
    "hasil = {\n",
    "    \"Total\": T,\n",
    "    \"Faktor Koreksi (FK)\": FK,\n",
    "    \"JKT\": JKT,\n",
    "    \"JK Baris\": JK_baris,\n",
    "    \"JK Kolom\": JK_kolom,\n",
    "    \"JK Perlakuan\": JK_perlakuan,\n",
    "    \"JK Galat\": JK_galat,\n",
    "    \"KT Perlakuan\": KT_perlakuan,\n",
    "    \"KT Galat\": KT_galat,\n",
    "    \"F Hitung Perlakuan\": F_perlakuan,\n",
    "    \"F Tabel 5%\": F_tabel_5,\n",
    "    \"F Tabel 1%\": F_tabel_1,\n",
    "    \"Keputusan\": \"Tolak H0 (ada pengaruh nyata)\" if F_perlakuan > F_tabel_5 else \"Gagal Tolak H0 (tidak ada pengaruh signifikan)\"\n",
    "}\n",
    "\n",
    "hasil_df = pd.DataFrame.from_dict(hasil, orient='index', columns=[\"Nilai\"])\n",
    "hasil_df"
   ]
  },
  {
   "cell_type": "code",
   "execution_count": 20,
   "id": "118f98c7",
   "metadata": {},
   "outputs": [
    {
     "data": {
      "text/html": [
       "<div>\n",
       "<style scoped>\n",
       "    .dataframe tbody tr th:only-of-type {\n",
       "        vertical-align: middle;\n",
       "    }\n",
       "\n",
       "    .dataframe tbody tr th {\n",
       "        vertical-align: top;\n",
       "    }\n",
       "\n",
       "    .dataframe thead th {\n",
       "        text-align: right;\n",
       "    }\n",
       "</style>\n",
       "<table border=\"1\" class=\"dataframe\">\n",
       "  <thead>\n",
       "    <tr style=\"text-align: right;\">\n",
       "      <th></th>\n",
       "      <th>Sumber</th>\n",
       "      <th>JK</th>\n",
       "      <th>db</th>\n",
       "      <th>KT</th>\n",
       "      <th>F Hitung</th>\n",
       "    </tr>\n",
       "  </thead>\n",
       "  <tbody>\n",
       "    <tr>\n",
       "      <th>0</th>\n",
       "      <td>Baris</td>\n",
       "      <td>7.1896</td>\n",
       "      <td>4</td>\n",
       "      <td>1.7974</td>\n",
       "      <td></td>\n",
       "    </tr>\n",
       "    <tr>\n",
       "      <th>1</th>\n",
       "      <td>Kolom</td>\n",
       "      <td>18.1336</td>\n",
       "      <td>4</td>\n",
       "      <td>4.5334</td>\n",
       "      <td></td>\n",
       "    </tr>\n",
       "    <tr>\n",
       "      <th>2</th>\n",
       "      <td>Perlakuan</td>\n",
       "      <td>12.9816</td>\n",
       "      <td>4</td>\n",
       "      <td>3.2454</td>\n",
       "      <td>1.624812</td>\n",
       "    </tr>\n",
       "    <tr>\n",
       "      <th>3</th>\n",
       "      <td>Galat</td>\n",
       "      <td>23.9688</td>\n",
       "      <td>12</td>\n",
       "      <td>1.9974</td>\n",
       "      <td></td>\n",
       "    </tr>\n",
       "    <tr>\n",
       "      <th>4</th>\n",
       "      <td>Total</td>\n",
       "      <td>62.2736</td>\n",
       "      <td>24</td>\n",
       "      <td></td>\n",
       "      <td></td>\n",
       "    </tr>\n",
       "  </tbody>\n",
       "</table>\n",
       "</div>"
      ],
      "text/plain": [
       "      Sumber       JK  db      KT  F Hitung\n",
       "0      Baris   7.1896   4  1.7974          \n",
       "1      Kolom  18.1336   4  4.5334          \n",
       "2  Perlakuan  12.9816   4  3.2454  1.624812\n",
       "3      Galat  23.9688  12  1.9974          \n",
       "4      Total  62.2736  24                  "
      ]
     },
     "execution_count": 20,
     "metadata": {},
     "output_type": "execute_result"
    }
   ],
   "source": [
    "# Menyusun tabel ANOVA sebagai DataFrame\n",
    "anova_table = pd.DataFrame({\n",
    "    \"Sumber\": [\"Baris\", \"Kolom\", \"Perlakuan\", \"Galat\", \"Total\"],\n",
    "    \"JK\": [JK_baris, JK_kolom, JK_perlakuan, JK_galat, JKT],\n",
    "    \"db\": [db_baris, db_kolom, db_perlakuan, db_galat, 24],\n",
    "    \"KT\": [KT_baris, KT_kolom, KT_perlakuan, KT_galat, \"\"],\n",
    "    \"F Hitung\": [\"\", \"\", F_perlakuan, \"\", \"\"]\n",
    "})\n",
    "\n",
    "anova_table"
   ]
  }
 ],
 "metadata": {
  "kernelspec": {
   "display_name": "tf",
   "language": "python",
   "name": "python3"
  },
  "language_info": {
   "codemirror_mode": {
    "name": "ipython",
    "version": 3
   },
   "file_extension": ".py",
   "mimetype": "text/x-python",
   "name": "python",
   "nbconvert_exporter": "python",
   "pygments_lexer": "ipython3",
   "version": "3.10.0"
  }
 },
 "nbformat": 4,
 "nbformat_minor": 5
}
