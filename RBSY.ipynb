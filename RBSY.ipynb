{
 "cells": [
  {
   "cell_type": "code",
   "execution_count": 2,
   "id": "c56133a9",
   "metadata": {},
   "outputs": [],
   "source": [
    "import numpy as np\n",
    "import pandas as pd\n",
    "from scipy.stats import f\n",
    "\n",
    "# Data Input: nilai respons kerusakan\n",
    "data_matrix = np.array([\n",
    "    [3, 1, -2, 0],    # Day 1: A, B, C, D\n",
    "    [0, 0, -1, 7],    # Day 2: B, C, D, E\n",
    "    [-1, 0, 5, 3],    # Day 3: C, D, E, A\n",
    "    [-1, 6, 4, 0],    # Day 4: D, E, A, B\n",
    "    [5, 2, 1, -1]     # Day 5: E, A, B, C\n",
    "])\n",
    "\n",
    "treatments = [\n",
    "    ['A', 'B', 'C', 'D'],\n",
    "    ['B', 'C', 'D', 'E'],\n",
    "    ['C', 'D', 'E', 'A'],\n",
    "    ['D', 'E', 'A', 'B'],\n",
    "    ['E', 'A', 'B', 'C']\n",
    "]"
   ]
  },
  {
   "cell_type": "code",
   "execution_count": 4,
   "id": "7efb3616",
   "metadata": {},
   "outputs": [
    {
     "name": "stdout",
     "output_type": "stream",
     "text": [
      "lambda =  3.0\n",
      "a =  5\n",
      "b =  5\n",
      "k =  4\n",
      "r =  4\n"
     ]
    }
   ],
   "source": [
    "#Statistik uji diketahui\n",
    "a = b = 5   # number of treatments = number of blocks\n",
    "k = 4       # positions per block\n",
    "r = k\n",
    "lambda_val = r * (k - 1) / (a - 1)\n",
    "print(\"lambda = \", lambda_val) \n",
    "print(\"a = \", a)\n",
    "print(\"b = \", b)\n",
    "print(\"k = \", k)\n",
    "print(\"r = \", r)"
   ]
  },
  {
   "cell_type": "code",
   "execution_count": 5,
   "id": "d16b2396",
   "metadata": {},
   "outputs": [
    {
     "data": {
      "text/html": [
       "<div>\n",
       "<style scoped>\n",
       "    .dataframe tbody tr th:only-of-type {\n",
       "        vertical-align: middle;\n",
       "    }\n",
       "\n",
       "    .dataframe tbody tr th {\n",
       "        vertical-align: top;\n",
       "    }\n",
       "\n",
       "    .dataframe thead th {\n",
       "        text-align: right;\n",
       "    }\n",
       "</style>\n",
       "<table border=\"1\" class=\"dataframe\">\n",
       "  <thead>\n",
       "    <tr style=\"text-align: right;\">\n",
       "      <th></th>\n",
       "      <th>day</th>\n",
       "      <th>station</th>\n",
       "      <th>treatment</th>\n",
       "      <th>value</th>\n",
       "    </tr>\n",
       "  </thead>\n",
       "  <tbody>\n",
       "    <tr>\n",
       "      <th>0</th>\n",
       "      <td>1</td>\n",
       "      <td>1</td>\n",
       "      <td>A</td>\n",
       "      <td>3</td>\n",
       "    </tr>\n",
       "    <tr>\n",
       "      <th>1</th>\n",
       "      <td>1</td>\n",
       "      <td>2</td>\n",
       "      <td>B</td>\n",
       "      <td>1</td>\n",
       "    </tr>\n",
       "    <tr>\n",
       "      <th>2</th>\n",
       "      <td>1</td>\n",
       "      <td>3</td>\n",
       "      <td>C</td>\n",
       "      <td>-2</td>\n",
       "    </tr>\n",
       "    <tr>\n",
       "      <th>3</th>\n",
       "      <td>1</td>\n",
       "      <td>4</td>\n",
       "      <td>D</td>\n",
       "      <td>0</td>\n",
       "    </tr>\n",
       "    <tr>\n",
       "      <th>4</th>\n",
       "      <td>2</td>\n",
       "      <td>1</td>\n",
       "      <td>B</td>\n",
       "      <td>0</td>\n",
       "    </tr>\n",
       "    <tr>\n",
       "      <th>5</th>\n",
       "      <td>2</td>\n",
       "      <td>2</td>\n",
       "      <td>C</td>\n",
       "      <td>0</td>\n",
       "    </tr>\n",
       "    <tr>\n",
       "      <th>6</th>\n",
       "      <td>2</td>\n",
       "      <td>3</td>\n",
       "      <td>D</td>\n",
       "      <td>-1</td>\n",
       "    </tr>\n",
       "    <tr>\n",
       "      <th>7</th>\n",
       "      <td>2</td>\n",
       "      <td>4</td>\n",
       "      <td>E</td>\n",
       "      <td>7</td>\n",
       "    </tr>\n",
       "    <tr>\n",
       "      <th>8</th>\n",
       "      <td>3</td>\n",
       "      <td>1</td>\n",
       "      <td>C</td>\n",
       "      <td>-1</td>\n",
       "    </tr>\n",
       "    <tr>\n",
       "      <th>9</th>\n",
       "      <td>3</td>\n",
       "      <td>2</td>\n",
       "      <td>D</td>\n",
       "      <td>0</td>\n",
       "    </tr>\n",
       "    <tr>\n",
       "      <th>10</th>\n",
       "      <td>3</td>\n",
       "      <td>3</td>\n",
       "      <td>E</td>\n",
       "      <td>5</td>\n",
       "    </tr>\n",
       "    <tr>\n",
       "      <th>11</th>\n",
       "      <td>3</td>\n",
       "      <td>4</td>\n",
       "      <td>A</td>\n",
       "      <td>3</td>\n",
       "    </tr>\n",
       "    <tr>\n",
       "      <th>12</th>\n",
       "      <td>4</td>\n",
       "      <td>1</td>\n",
       "      <td>D</td>\n",
       "      <td>-1</td>\n",
       "    </tr>\n",
       "    <tr>\n",
       "      <th>13</th>\n",
       "      <td>4</td>\n",
       "      <td>2</td>\n",
       "      <td>E</td>\n",
       "      <td>6</td>\n",
       "    </tr>\n",
       "    <tr>\n",
       "      <th>14</th>\n",
       "      <td>4</td>\n",
       "      <td>3</td>\n",
       "      <td>A</td>\n",
       "      <td>4</td>\n",
       "    </tr>\n",
       "    <tr>\n",
       "      <th>15</th>\n",
       "      <td>4</td>\n",
       "      <td>4</td>\n",
       "      <td>B</td>\n",
       "      <td>0</td>\n",
       "    </tr>\n",
       "    <tr>\n",
       "      <th>16</th>\n",
       "      <td>5</td>\n",
       "      <td>1</td>\n",
       "      <td>E</td>\n",
       "      <td>5</td>\n",
       "    </tr>\n",
       "    <tr>\n",
       "      <th>17</th>\n",
       "      <td>5</td>\n",
       "      <td>2</td>\n",
       "      <td>A</td>\n",
       "      <td>2</td>\n",
       "    </tr>\n",
       "    <tr>\n",
       "      <th>18</th>\n",
       "      <td>5</td>\n",
       "      <td>3</td>\n",
       "      <td>B</td>\n",
       "      <td>1</td>\n",
       "    </tr>\n",
       "    <tr>\n",
       "      <th>19</th>\n",
       "      <td>5</td>\n",
       "      <td>4</td>\n",
       "      <td>C</td>\n",
       "      <td>-1</td>\n",
       "    </tr>\n",
       "  </tbody>\n",
       "</table>\n",
       "</div>"
      ],
      "text/plain": [
       "    day  station treatment  value\n",
       "0     1        1         A      3\n",
       "1     1        2         B      1\n",
       "2     1        3         C     -2\n",
       "3     1        4         D      0\n",
       "4     2        1         B      0\n",
       "5     2        2         C      0\n",
       "6     2        3         D     -1\n",
       "7     2        4         E      7\n",
       "8     3        1         C     -1\n",
       "9     3        2         D      0\n",
       "10    3        3         E      5\n",
       "11    3        4         A      3\n",
       "12    4        1         D     -1\n",
       "13    4        2         E      6\n",
       "14    4        3         A      4\n",
       "15    4        4         B      0\n",
       "16    5        1         E      5\n",
       "17    5        2         A      2\n",
       "18    5        3         B      1\n",
       "19    5        4         C     -1"
      ]
     },
     "execution_count": 5,
     "metadata": {},
     "output_type": "execute_result"
    }
   ],
   "source": [
    "# Flatten data and labels\n",
    "observations = []\n",
    "for i in range(5):         # block/day\n",
    "    for j in range(4):     # station\n",
    "        observations.append({\n",
    "            \"day\": i + 1,\n",
    "            \"station\": j + 1,\n",
    "            \"treatment\": treatments[i][j],\n",
    "            \"value\": data_matrix[i][j]\n",
    "        })\n",
    "\n",
    "df = pd.DataFrame(observations)\n",
    "df"
   ]
  },
  {
   "cell_type": "code",
   "execution_count": 7,
   "id": "991c86b4",
   "metadata": {},
   "outputs": [
    {
     "name": "stdout",
     "output_type": "stream",
     "text": [
      "JKT =  134.95\n"
     ]
    }
   ],
   "source": [
    "# Total N\n",
    "N = len(df)\n",
    "Y_total = df['value'].sum()\n",
    "Y_squared_total = Y_total ** 2 / N\n",
    "df['value_squared'] = df['value'] ** 2\n",
    "JKT = df['value_squared'].sum() - Y_squared_total\n",
    "print(\"JKT = \", JKT)"
   ]
  },
  {
   "cell_type": "code",
   "execution_count": 17,
   "id": "d142009f",
   "metadata": {},
   "outputs": [
    {
     "name": "stdout",
     "output_type": "stream",
     "text": [
      "JKP =  120.37\n"
     ]
    }
   ],
   "source": [
    "# Posisi (Stasiun)\n",
    "position_sums = df.groupby(\"station\")['value'].sum()\n",
    "JKPos = sum(position_sums ** 2) / b - Y_squared_total\n",
    "\n",
    "# Kehadiran perlakuan per blok\n",
    "presence = pd.DataFrame(0, index=range(1, 6), columns=['A', 'B', 'C', 'D', 'E'])\n",
    "for i, row in df.iterrows():\n",
    "    presence.loc[row['day'], row['treatment']] = 1\n",
    "\n",
    "# Hitung phi\n",
    "block_sums = df.groupby(\"day\")['value'].sum()\n",
    "treatment_sums = df.groupby(\"treatment\")['value'].sum()\n",
    "phi = {}\n",
    "for treat in treatment_sums.index:\n",
    "    y_j = treatment_sums[treat]\n",
    "    comp = sum(presence[treat][i] * (block_sums[i] / k) for i in block_sums.index)\n",
    "    phi[treat] = y_j - comp\n",
    "phi_series = pd.Series(phi)\n",
    "\n",
    "# JKP (Perlakuan diperbaiki)\n",
    "JKP = (k * sum(phi_series ** 2)) / (lambda_val * a)\n",
    "print(\"JKP = \", round(JKP, 2))\n"
   ]
  },
  {
   "cell_type": "code",
   "execution_count": 18,
   "id": "96e42f47",
   "metadata": {},
   "outputs": [
    {
     "name": "stdout",
     "output_type": "stream",
     "text": [
      "JKB =  6.700000000000003\n"
     ]
    }
   ],
   "source": [
    "# Block (Day) totals\n",
    "block_sums = df.groupby(\"day\")['value'].sum()\n",
    "JKB = sum(block_sums ** 2) / k - Y_squared_total\n",
    "print(\"JKB = \", JKB)"
   ]
  },
  {
   "cell_type": "code",
   "execution_count": 10,
   "id": "f23d9781",
   "metadata": {},
   "outputs": [
    {
     "name": "stdout",
     "output_type": "stream",
     "text": [
      "JKPos =  1.3500000000000014\n"
     ]
    }
   ],
   "source": [
    "# Position totals (Station)\n",
    "position_sums = df.groupby(\"station\")['value'].sum()\n",
    "JKPos = sum(position_sums ** 2) / b - Y_squared_total\n",
    "print(\"JKPos = \", JKPos)"
   ]
  },
  {
   "cell_type": "code",
   "execution_count": 13,
   "id": "f4766164",
   "metadata": {},
   "outputs": [
    {
     "name": "stdout",
     "output_type": "stream",
     "text": [
      "JKS =  6.533333333333324\n"
     ]
    }
   ],
   "source": [
    "# Error (Residual)\n",
    "JKS = JKT - JKP - JKB - JKPos\n",
    "print(\"JKS = \", JKS)"
   ]
  },
  {
   "cell_type": "code",
   "execution_count": 15,
   "id": "202db125",
   "metadata": {},
   "outputs": [
    {
     "name": "stdout",
     "output_type": "stream",
     "text": [
      "df_total =  19\n",
      "df_treat =  4\n",
      "df_block =  4\n",
      "df_pos =  3\n",
      "df_error =  8\n"
     ]
    }
   ],
   "source": [
    "# Degrees of freedom\n",
    "df_total = N - 1\n",
    "df_treat = a - 1\n",
    "df_block = b - 1\n",
    "df_pos = k - 1\n",
    "df_error = N - a - b - k + 2\n",
    "print(\"df_total = \", df_total)\n",
    "print(\"df_treat = \", df_treat)\n",
    "print(\"df_block = \", df_block)\n",
    "print(\"df_pos = \", df_pos)\n",
    "print(\"df_error = \", df_error)"
   ]
  },
  {
   "cell_type": "code",
   "execution_count": 16,
   "id": "7714af04",
   "metadata": {},
   "outputs": [
    {
     "name": "stdout",
     "output_type": "stream",
     "text": [
      "RKP =  30.091666666666665\n",
      "RKB =  1.6750000000000007\n",
      "RKPos =  0.45000000000000046\n",
      "RKS =  0.8166666666666655\n"
     ]
    }
   ],
   "source": [
    "# Mean Squares\n",
    "RKP = JKP / df_treat\n",
    "RKB = JKB / df_block\n",
    "RKPos = JKPos / df_pos\n",
    "RKS = JKS / df_error\n",
    "print(\"RKP = \", RKP)\n",
    "print(\"RKB = \", RKB)\n",
    "print(\"RKPos = \", RKPos)\n",
    "print(\"RKS = \", RKS)"
   ]
  },
  {
   "cell_type": "code",
   "execution_count": 20,
   "id": "c1c936a8",
   "metadata": {},
   "outputs": [
    {
     "name": "stdout",
     "output_type": "stream",
     "text": [
      "F_hit =  36.84693877551025\n"
     ]
    }
   ],
   "source": [
    "# F-statistic\n",
    "F_hit = RKP / RKS\n",
    "F_table = f.ppf(1 - 0.1, df_treat, df_error)\n",
    "print(\"F_hit = \", F_hit)"
   ]
  },
  {
   "cell_type": "code",
   "execution_count": 21,
   "id": "b8f63234",
   "metadata": {},
   "outputs": [
    {
     "name": "stdout",
     "output_type": "stream",
     "text": [
      "===== ANOVA RBSY =====\n",
      "JKT = 134.95\n",
      "JK Perlakuan = 120.37\n",
      "JK Blok = 6.70\n",
      "JK Posisi = 1.35\n",
      "JK Sisa = 6.53\n",
      "F hitung = 36.85, F tabel (0.1) = 2.81\n"
     ]
    }
   ],
   "source": [
    "# === OUTPUT ANOVA ===\n",
    "print(\"===== ANOVA RBSY =====\")\n",
    "print(f\"JKT = {JKT:.2f}\")\n",
    "print(f\"JK Perlakuan = {JKP:.2f}\")\n",
    "print(f\"JK Blok = {JKB:.2f}\")\n",
    "print(f\"JK Posisi = {JKPos:.2f}\")\n",
    "print(f\"JK Sisa = {JKS:.2f}\")\n",
    "print(f\"F hitung = {F_hit:.2f}, F tabel (0.1) = {F_table:.2f}\")"
   ]
  },
  {
   "cell_type": "code",
   "execution_count": 22,
   "id": "d4a1a69c",
   "metadata": {},
   "outputs": [
    {
     "name": "stdout",
     "output_type": "stream",
     "text": [
      "\n",
      "===== UJI DUNCAN =====\n",
      "D - C = 0.40 vs Rp(2) = 2.21 → SAMA\n",
      "B - C = 1.47 vs Rp(3) = 2.33 → SAMA\n",
      "A - C = 4.07 vs Rp(4) = 2.40 → BERBEDA\n",
      "E - C = 6.73 vs Rp(5) = 2.44 → BERBEDA\n",
      "B - D = 1.07 vs Rp(2) = 2.21 → SAMA\n",
      "A - D = 3.67 vs Rp(3) = 2.33 → BERBEDA\n",
      "E - D = 6.33 vs Rp(4) = 2.40 → BERBEDA\n",
      "A - B = 2.60 vs Rp(2) = 2.21 → BERBEDA\n",
      "E - B = 5.27 vs Rp(3) = 2.33 → BERBEDA\n",
      "E - A = 2.67 vs Rp(2) = 2.21 → BERBEDA\n"
     ]
    }
   ],
   "source": [
    "# === UJI DUNCAN ===\n",
    "tau_hat = (k * phi_series) / (lambda_val * a)\n",
    "tau_hat = tau_hat.sort_values()\n",
    "tau_names = tau_hat.index.tolist()\n",
    "tau_values = tau_hat.values\n",
    "\n",
    "S = (k * RKS / (lambda_val * a)) ** 0.5\n",
    "r_values = {2: 4.74, 3: 5.00, 4: 5.14, 5: 5.23}\n",
    "\n",
    "print(\"\\n===== UJI DUNCAN =====\")\n",
    "for i in range(len(tau_values)):\n",
    "    for j in range(i + 1, len(tau_values)):\n",
    "        diff = tau_values[j] - tau_values[i]\n",
    "        p = j - i + 1\n",
    "        Rp = r_values[p] * S\n",
    "        status = \"BERBEDA\" if diff > Rp else \"SAMA\"\n",
    "        print(f\"{tau_names[j]} - {tau_names[i]} = {diff:.2f} vs Rp({p}) = {Rp:.2f} → {status}\")\n"
   ]
  }
 ],
 "metadata": {
  "kernelspec": {
   "display_name": "tf",
   "language": "python",
   "name": "python3"
  },
  "language_info": {
   "codemirror_mode": {
    "name": "ipython",
    "version": 3
   },
   "file_extension": ".py",
   "mimetype": "text/x-python",
   "name": "python",
   "nbconvert_exporter": "python",
   "pygments_lexer": "ipython3",
   "version": "3.10.0"
  }
 },
 "nbformat": 4,
 "nbformat_minor": 5
}
