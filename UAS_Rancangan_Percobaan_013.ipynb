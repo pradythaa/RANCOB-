{
  "nbformat": 4,
  "nbformat_minor": 0,
  "metadata": {
    "colab": {
      "provenance": []
    },
    "kernelspec": {
      "name": "python3",
      "display_name": "Python 3"
    },
    "language_info": {
      "name": "python"
    }
  },
  "cells": [
    {
      "cell_type": "markdown",
      "source": [
        "**Nama Mata Kuliah : Rancangan Percobaan**\n",
        "\n",
        "**Semester/Tahun  : Genap/2024-2025**\n",
        "\n",
        "**Prodi/Rumpun : SSD**\n",
        "\n",
        "**Pengampu : Dr. Walid.,S.Pd., M.Si.**\n",
        "\n"
      ],
      "metadata": {
        "id": "HE7tunTQQ2i-"
      }
    },
    {
      "cell_type": "markdown",
      "source": [
        "# **UJIAN AKHIR SEMESTER RANCANGAN PERCOBAAN**\n",
        "\n",
        "# **PRADYTHA GALUH PUTRANTI 2304220013**"
      ],
      "metadata": {
        "id": "m4nUUCy-RkRQ"
      }
    },
    {
      "cell_type": "markdown",
      "source": [
        "# **SOAL NOMER 1: Analisis RABTLS**"
      ],
      "metadata": {
        "id": "SsKbzHa1Cc7f"
      }
    },
    {
      "cell_type": "code",
      "execution_count": 2,
      "metadata": {
        "id": "NW_nhcBeCEJO"
      },
      "outputs": [],
      "source": [
        "import pandas as pd\n",
        "import numpy as np\n",
        "from scipy import stats\n",
        "import warnings\n",
        "warnings.filterwarnings('ignore')"
      ]
    },
    {
      "cell_type": "code",
      "source": [
        "# Data dari tabel\n",
        "data = {\n",
        "    'Tekanan': ['A', 'A', 'A', 'B', 'B', 'B', 'C', 'C', 'C', 'D', 'D', 'D'],\n",
        "    'Logam': [1, 2, 4, 2, 3, 4, 1, 2, 3, 1, 3, 4],\n",
        "    'Perlakuan': [80, 83, 86, 75, 78, 84, 86, 88, 90, 92, 94, 80]\n",
        "}\n",
        "\n",
        "df = pd.DataFrame(data)\n",
        "\n",
        "print(\"ANALISIS RANCANGAN ACAK BLOK LENGKAP TAK SEIMBANG (RABTLS)\")\n",
        "print(\"\\nData Eksperimen:\")\n",
        "print(df)\n",
        "print()"
      ],
      "metadata": {
        "colab": {
          "base_uri": "https://localhost:8080/"
        },
        "id": "9Tuiw9nYCmWz",
        "outputId": "5e8c44e4-1421-4ac6-8da5-24a558c3fe4d"
      },
      "execution_count": 7,
      "outputs": [
        {
          "output_type": "stream",
          "name": "stdout",
          "text": [
            "ANALISIS RANCANGAN ACAK BLOK LENGKAP TAK SEIMBANG (RABTLS)\n",
            "\n",
            "Data Eksperimen:\n",
            "   Tekanan  Logam  Perlakuan\n",
            "0        A      1         80\n",
            "1        A      2         83\n",
            "2        A      4         86\n",
            "3        B      2         75\n",
            "4        B      3         78\n",
            "5        B      4         84\n",
            "6        C      1         86\n",
            "7        C      2         88\n",
            "8        C      3         90\n",
            "9        D      1         92\n",
            "10       D      3         94\n",
            "11       D      4         80\n",
            "\n"
          ]
        }
      ]
    },
    {
      "cell_type": "markdown",
      "source": [
        "**STATISTIK DESKRIPTIF**"
      ],
      "metadata": {
        "id": "on0sBAglC_XS"
      }
    },
    {
      "cell_type": "code",
      "source": [
        "# Statistik deskriptif\n",
        "print(\"STATISTIK DESKRIPTIF\")\n",
        "\n",
        "# Statistik per Tekanan\n",
        "print(\"\\nRata-rata per Tekanan:\")\n",
        "tekanan_stats = df.groupby('Tekanan')['Perlakuan'].agg(['mean', 'std', 'count'])\n",
        "print(tekanan_stats)\n",
        "\n",
        "# Statistik per Logam\n",
        "print(\"\\nRata-rata per Logam:\")\n",
        "logam_stats = df.groupby('Logam')['Perlakuan'].agg(['mean', 'std', 'count'])\n",
        "print(logam_stats)\n",
        "\n",
        "# Grand mean\n",
        "grand_mean = df['Perlakuan'].mean()\n",
        "print(f\"\\nGrand Mean: {grand_mean:.4f}\")\n"
      ],
      "metadata": {
        "colab": {
          "base_uri": "https://localhost:8080/"
        },
        "id": "c1Oo3J4KCqWY",
        "outputId": "9151c112-0274-477a-eb7a-4f1a714d97a7"
      },
      "execution_count": 6,
      "outputs": [
        {
          "output_type": "stream",
          "name": "stdout",
          "text": [
            "STATISTIK DESKRIPTIF\n",
            "\n",
            "Rata-rata per Tekanan:\n",
            "              mean       std  count\n",
            "Tekanan                            \n",
            "A        83.000000  3.000000      3\n",
            "B        79.000000  4.582576      3\n",
            "C        88.000000  2.000000      3\n",
            "D        88.666667  7.571878      3\n",
            "\n",
            "Rata-rata per Logam:\n",
            "            mean       std  count\n",
            "Logam                            \n",
            "1      86.000000  6.000000      3\n",
            "2      82.000000  6.557439      3\n",
            "3      87.333333  8.326664      3\n",
            "4      83.333333  3.055050      3\n",
            "\n",
            "Grand Mean: 84.6667\n"
          ]
        }
      ]
    },
    {
      "cell_type": "markdown",
      "source": [
        "**POLA MISSING DATA**"
      ],
      "metadata": {
        "id": "EskZ-zdcDD2B"
      }
    },
    {
      "cell_type": "code",
      "source": [
        "# Membuat tabel kontingensi untuk missing pattern\n",
        "print(\"POLA MISSING DATA\")\n",
        "contingency = pd.crosstab(df['Tekanan'], df['Logam'], values=df['Perlakuan'], aggfunc='first')\n",
        "print(\"\\nTabel Data (missing = NaN):\")\n",
        "print(contingency)"
      ],
      "metadata": {
        "colab": {
          "base_uri": "https://localhost:8080/"
        },
        "id": "KqE9h-_cDEGZ",
        "outputId": "33dea930-3224-4932-bbe3-c796b83f92b9"
      },
      "execution_count": 8,
      "outputs": [
        {
          "output_type": "stream",
          "name": "stdout",
          "text": [
            "POLA MISSING DATA\n",
            "\n",
            "Tabel Data (missing = NaN):\n",
            "Logam       1     2     3     4\n",
            "Tekanan                        \n",
            "A        80.0  83.0   NaN  86.0\n",
            "B         NaN  75.0  78.0  84.0\n",
            "C        86.0  88.0  90.0   NaN\n",
            "D        92.0   NaN  94.0  80.0\n"
          ]
        }
      ]
    },
    {
      "cell_type": "markdown",
      "source": [
        "**ANALISIS VARIANSI (ANOVA)**"
      ],
      "metadata": {
        "id": "OrPsnff5DP1l"
      }
    },
    {
      "cell_type": "code",
      "source": [
        "# ANOVA untuk RABTLS\n",
        "print(\"ANALISIS VARIANSI (ANOVA)\")\n",
        "\n",
        "# Total sum of squares\n",
        "TSS = np.sum((df['Perlakuan'] - grand_mean)**2)\n",
        "print(f\"\\nTotal Sum of Squares (TSS): {TSS:.4f}\")\n",
        "\n",
        "# Treatment sum of squares (Tekanan)\n",
        "treatment_means = df.groupby('Tekanan')['Perlakuan'].mean()\n",
        "treatment_counts = df.groupby('Tekanan')['Perlakuan'].count()\n",
        "SST = np.sum(treatment_counts * (treatment_means - grand_mean)**2)\n",
        "print(f\"Treatment Sum of Squares (SST): {SST:.4f}\")\n",
        "\n",
        "# Block sum of squares (Logam)\n",
        "block_means = df.groupby('Logam')['Perlakuan'].mean()\n",
        "block_counts = df.groupby('Logam')['Perlakuan'].count()\n",
        "SSB = np.sum(block_counts * (block_means - grand_mean)**2)\n",
        "print(f\"Block Sum of Squares (SSB): {SSB:.4f}\")\n",
        "\n",
        "# Error sum of squares\n",
        "SSE = TSS - SST - SSB\n",
        "print(f\"Error Sum of Squares (SSE): {SSE:.4f}\")\n",
        "\n",
        "# Degrees of freedom\n",
        "df_treatment = len(treatment_means) - 1\n",
        "df_block = len(block_means) - 1\n",
        "df_total = len(df) - 1\n",
        "df_error = df_total - df_treatment - df_block\n",
        "\n",
        "print(f\"\\nDerajat Bebas:\")\n",
        "print(f\"df Treatment: {df_treatment}\")\n",
        "print(f\"df Block: {df_block}\")\n",
        "print(f\"df Error: {df_error}\")\n",
        "print(f\"df Total: {df_total}\")\n",
        "\n",
        "# Mean squares\n",
        "MST = SST / df_treatment\n",
        "MSB = SSB / df_block\n",
        "MSE = SSE / df_error\n",
        "\n",
        "print(f\"\\nMean Squares:\")\n",
        "print(f\"MS Treatment: {MST:.4f}\")\n",
        "print(f\"MS Block: {MSB:.4f}\")\n",
        "print(f\"MS Error: {MSE:.4f}\")"
      ],
      "metadata": {
        "colab": {
          "base_uri": "https://localhost:8080/"
        },
        "id": "zdv4bRUeDQLr",
        "outputId": "0df81449-5ec1-49e9-a09f-c48a4db45155"
      },
      "execution_count": 9,
      "outputs": [
        {
          "output_type": "stream",
          "name": "stdout",
          "text": [
            "ANALISIS VARIANSI (ANOVA)\n",
            "\n",
            "Total Sum of Squares (TSS): 368.6667\n",
            "Treatment Sum of Squares (SST): 186.0000\n",
            "Block Sum of Squares (SSB): 53.3333\n",
            "Error Sum of Squares (SSE): 129.3333\n",
            "\n",
            "Derajat Bebas:\n",
            "df Treatment: 3\n",
            "df Block: 3\n",
            "df Error: 5\n",
            "df Total: 11\n",
            "\n",
            "Mean Squares:\n",
            "MS Treatment: 62.0000\n",
            "MS Block: 17.7778\n",
            "MS Error: 25.8667\n"
          ]
        }
      ]
    },
    {
      "cell_type": "markdown",
      "source": [
        "**F-STATISTIC**"
      ],
      "metadata": {
        "id": "OR7qbv6zDruL"
      }
    },
    {
      "cell_type": "code",
      "source": [
        "# F-statistics\n",
        "F_treatment = MST / MSE\n",
        "F_block = MSB / MSE\n",
        "\n",
        "print(f\"\\nF-Statistics:\")\n",
        "print(f\"F Treatment: {F_treatment:.4f}\")\n",
        "print(f\"F Block: {F_block:.4f}\")\n",
        "\n",
        "# P-values\n",
        "p_treatment = 1 - stats.f.cdf(F_treatment, df_treatment, df_error)\n",
        "p_block = 1 - stats.f.cdf(F_block, df_block, df_error)\n",
        "\n",
        "print(f\"\\nP-values:\")\n",
        "print(f\"P-value Treatment: {p_treatment:.6f}\")\n",
        "print(f\"P-value Block: {p_block:.6f}\")\n",
        "\n",
        "# Critical values (α = 0.05)\n",
        "F_crit_treatment = stats.f.ppf(0.95, df_treatment, df_error)\n",
        "F_crit_block = stats.f.ppf(0.95, df_block, df_error)\n",
        "\n",
        "print(f\"\\nF Critical (α = 0.05):\")\n",
        "print(f\"F Critical Treatment: {F_crit_treatment:.4f}\")\n",
        "print(f\"F Critical Block: {F_crit_block:.4f}\")\n"
      ],
      "metadata": {
        "colab": {
          "base_uri": "https://localhost:8080/"
        },
        "id": "7OMRijycDr_6",
        "outputId": "554bf6f8-ad5e-4b75-fc48-d7e6b7bc6341"
      },
      "execution_count": 10,
      "outputs": [
        {
          "output_type": "stream",
          "name": "stdout",
          "text": [
            "\n",
            "F-Statistics:\n",
            "F Treatment: 2.3969\n",
            "F Block: 0.6873\n",
            "\n",
            "P-values:\n",
            "P-value Treatment: 0.184205\n",
            "P-value Block: 0.597453\n",
            "\n",
            "F Critical (α = 0.05):\n",
            "F Critical Treatment: 5.4095\n",
            "F Critical Block: 5.4095\n"
          ]
        }
      ]
    },
    {
      "cell_type": "markdown",
      "source": [
        "**TABEL ANOVA**"
      ],
      "metadata": {
        "id": "NHuLEpU8DyqQ"
      }
    },
    {
      "cell_type": "code",
      "source": [
        "# ANOVA Table\n",
        "print(\"\\n\" + \"=\"*80)\n",
        "print(\"TABEL ANOVA\")\n",
        "print(\"=\"*80)\n",
        "print(f\"{'Source':<12} {'df':<4} {'SS':<12} {'MS':<12} {'F':<10} {'P-value':<10} {'F-crit':<10}\")\n",
        "print(\"-\"*80)\n",
        "print(f\"{'Treatment':<12} {df_treatment:<4} {SST:<12.4f} {MST:<12.4f} {F_treatment:<10.4f} {p_treatment:<10.6f} {F_crit_treatment:<10.4f}\")\n",
        "print(f\"{'Block':<12} {df_block:<4} {SSB:<12.4f} {MSB:<12.4f} {F_block:<10.4f} {p_block:<10.6f} {F_crit_block:<10.4f}\")\n",
        "print(f\"{'Error':<12} {df_error:<4} {SSE:<12.4f} {MSE:<12.4f}\")\n",
        "print(f\"{'Total':<12} {df_total:<4} {TSS:<12.4f}\")\n",
        "print(\"=\"*80)"
      ],
      "metadata": {
        "colab": {
          "base_uri": "https://localhost:8080/"
        },
        "id": "2vZlc7U0Dy5C",
        "outputId": "d5c579e9-5fa4-42ff-ee24-18e72213ede9"
      },
      "execution_count": 11,
      "outputs": [
        {
          "output_type": "stream",
          "name": "stdout",
          "text": [
            "\n",
            "================================================================================\n",
            "TABEL ANOVA\n",
            "================================================================================\n",
            "Source       df   SS           MS           F          P-value    F-crit    \n",
            "--------------------------------------------------------------------------------\n",
            "Treatment    3    186.0000     62.0000      2.3969     0.184205   5.4095    \n",
            "Block        3    53.3333      17.7778      0.6873     0.597453   5.4095    \n",
            "Error        5    129.3333     25.8667     \n",
            "Total        11   368.6667    \n",
            "================================================================================\n"
          ]
        }
      ]
    },
    {
      "cell_type": "markdown",
      "source": [
        "**KESIMPULAN**"
      ],
      "metadata": {
        "id": "bXkEo0t7EMY1"
      }
    },
    {
      "cell_type": "code",
      "source": [
        "# Kesimpulan\n",
        "print(\"\\n\" + \"=\"*50)\n",
        "print(\"KESIMPULAN UJI HIPOTESIS\")\n",
        "print(\"=\"*50)\n",
        "print(\"\\nUji Efek Treatment (Tekanan):\")\n",
        "print(f\"H0: Tidak ada perbedaan rata-rata antar tekanan\")\n",
        "print(f\"H1: Ada perbedaan rata-rata antar tekanan\")\n",
        "print(f\"F-hitung = {F_treatment:.4f}\")\n",
        "print(f\"F-tabel (α=0.05) = {F_crit_treatment:.4f}\")\n",
        "print(f\"P-value = {p_treatment:.6f}\")\n",
        "\n",
        "if p_treatment < 0.05:\n",
        "    print(\"Kesimpulan: TOLAK H0 - Ada perbedaan signifikan antar tekanan\")\n",
        "else:\n",
        "    print(\"Kesimpulan: TERIMA H0 - Tidak ada perbedaan signifikan antar tekanan\")\n",
        "\n",
        "print(\"\\nUji Efek Block (Logam):\")\n",
        "print(f\"H0: Tidak ada perbedaan rata-rata antar logam\")\n",
        "print(f\"H1: Ada perbedaan rata-rata antar logam\")\n",
        "print(f\"F-hitung = {F_block:.4f}\")\n",
        "print(f\"F-tabel (α=0.05) = {F_crit_block:.4f}\")\n",
        "print(f\"P-value = {p_block:.6f}\")\n",
        "\n",
        "if p_block < 0.05:\n",
        "    print(\"Kesimpulan: TOLAK H0 - Ada perbedaan signifikan antar logam\")\n",
        "else:\n",
        "    print(\"Kesimpulan: TERIMA H0 - Tidak ada perbedaan signifikan antar logam\")\n",
        "\n",
        "# Estimasi Missing Values menggunakan metode iteratif\n",
        "print(\"\\n\" + \"=\"*50)\n",
        "print(\"ESTIMASI NILAI MISSING\")\n",
        "print(\"=\"*50)\n",
        "\n",
        "# Buat matriks lengkap dengan missing values\n",
        "full_data = np.full((4, 4), np.nan)\n",
        "tekanan_map = {'A': 0, 'B': 1, 'C': 2, 'D': 3}\n",
        "logam_map = {1: 0, 2: 1, 3: 2, 4: 3}\n",
        "\n",
        "for i, row in df.iterrows():\n",
        "    t_idx = tekanan_map[row['Tekanan']]\n",
        "    l_idx = logam_map[row['Logam']]\n",
        "    full_data[t_idx, l_idx] = row['Perlakuan']\n",
        "\n",
        "print(\"\\nMatriks Data Asli:\")\n",
        "print(\"Tekanan\\\\Logam    1      2      3      4\")\n",
        "print(\"-\" * 40)\n",
        "for i, tekanan in enumerate(['A', 'B', 'C', 'D']):\n",
        "    row_str = f\"{tekanan:<12}\"\n",
        "    for j in range(4):\n",
        "        if np.isnan(full_data[i, j]):\n",
        "            row_str += f\"{'--':<7}\"\n",
        "        else:\n",
        "            row_str += f\"{full_data[i, j]:<7.0f}\"\n",
        "    print(row_str)\n",
        "\n",
        "# Estimasi missing values dengan metode rata-rata baris dan kolom\n",
        "estimated_data = full_data.copy()\n",
        "row_means = np.nanmean(full_data, axis=1)\n",
        "col_means = np.nanmean(full_data, axis=0)\n",
        "\n",
        "print(f\"\\nRata-rata per Tekanan: A={row_means[0]:.2f}, B={row_means[1]:.2f}, C={row_means[2]:.2f}, D={row_means[3]:.2f}\")\n",
        "print(f\"Rata-rata per Logam: 1={col_means[0]:.2f}, 2={col_means[1]:.2f}, 3={col_means[2]:.2f}, 4={col_means[3]:.2f}\")\n",
        "\n",
        "# Missing positions dan estimasinya\n",
        "missing_positions = []\n",
        "for i in range(4):\n",
        "    for j in range(4):\n",
        "        if np.isnan(full_data[i, j]):\n",
        "            # Estimasi = rata-rata baris + rata-rata kolom - grand mean\n",
        "            estimate = row_means[i] + col_means[j] - grand_mean\n",
        "            estimated_data[i, j] = estimate\n",
        "            tekanan_name = ['A', 'B', 'C', 'D'][i]\n",
        "            logam_name = j + 1\n",
        "            missing_positions.append((tekanan_name, logam_name, estimate))\n",
        "\n",
        "print(f\"\\nNilai Missing yang Diestimasi:\")\n",
        "for tekanan, logam, estimate in missing_positions:\n",
        "    print(f\"Tekanan {tekanan}, Logam {logam}: {estimate:.2f}\")\n",
        "\n",
        "print(\"\\nMatriks Data Lengkap (dengan estimasi):\")\n",
        "print(\"Tekanan\\\\Logam    1      2      3      4\")\n",
        "print(\"-\" * 40)\n",
        "for i, tekanan in enumerate(['A', 'B', 'C', 'D']):\n",
        "    row_str = f\"{tekanan:<12}\"\n",
        "    for j in range(4):\n",
        "        if np.isnan(full_data[i, j]):\n",
        "            row_str += f\"{estimated_data[i, j]:<7.2f}*\"\n",
        "        else:\n",
        "            row_str += f\"{estimated_data[i, j]:<7.0f} \"\n",
        "    print(row_str)\n",
        "\n",
        "print(\"\\n* = nilai estimasi\")\n",
        "\n",
        "# Koefisien determinasi\n",
        "print(f\"\\n\" + \"=\"*50)\n",
        "print(\"KOEFISIEN DETERMINASI\")\n",
        "print(\"=\"*50)\n",
        "R2_treatment = SST / TSS\n",
        "R2_block = SSB / TSS\n",
        "R2_total = (SST + SSB) / TSS\n",
        "\n",
        "print(f\"R² Treatment (Tekanan): {R2_treatment:.4f} ({R2_treatment*100:.2f}%)\")\n",
        "print(f\"R² Block (Logam): {R2_block:.4f} ({R2_block*100:.2f}%)\")\n",
        "print(f\"R² Total Model: {R2_total:.4f} ({R2_total*100:.2f}%)\")\n",
        "print(f\"R² Error: {1-R2_total:.4f} ({(1-R2_total)*100:.2f}%)\")"
      ],
      "metadata": {
        "colab": {
          "base_uri": "https://localhost:8080/"
        },
        "id": "Qa0FmZvdEFBl",
        "outputId": "fe98e465-47b9-4fc0-c132-528b9332515c"
      },
      "execution_count": 13,
      "outputs": [
        {
          "output_type": "stream",
          "name": "stdout",
          "text": [
            "\n",
            "==================================================\n",
            "KESIMPULAN UJI HIPOTESIS\n",
            "==================================================\n",
            "\n",
            "Uji Efek Treatment (Tekanan):\n",
            "H0: Tidak ada perbedaan rata-rata antar tekanan\n",
            "H1: Ada perbedaan rata-rata antar tekanan\n",
            "F-hitung = 2.3969\n",
            "F-tabel (α=0.05) = 5.4095\n",
            "P-value = 0.184205\n",
            "Kesimpulan: TERIMA H0 - Tidak ada perbedaan signifikan antar tekanan\n",
            "\n",
            "Uji Efek Block (Logam):\n",
            "H0: Tidak ada perbedaan rata-rata antar logam\n",
            "H1: Ada perbedaan rata-rata antar logam\n",
            "F-hitung = 0.6873\n",
            "F-tabel (α=0.05) = 5.4095\n",
            "P-value = 0.597453\n",
            "Kesimpulan: TERIMA H0 - Tidak ada perbedaan signifikan antar logam\n",
            "\n",
            "==================================================\n",
            "ESTIMASI NILAI MISSING\n",
            "==================================================\n",
            "\n",
            "Matriks Data Asli:\n",
            "Tekanan\\Logam    1      2      3      4\n",
            "----------------------------------------\n",
            "A           80     83     --     86     \n",
            "B           --     75     78     84     \n",
            "C           86     88     90     --     \n",
            "D           92     --     94     80     \n",
            "\n",
            "Rata-rata per Tekanan: A=83.00, B=79.00, C=88.00, D=88.67\n",
            "Rata-rata per Logam: 1=86.00, 2=82.00, 3=87.33, 4=83.33\n",
            "\n",
            "Nilai Missing yang Diestimasi:\n",
            "Tekanan A, Logam 3: 85.67\n",
            "Tekanan B, Logam 1: 80.33\n",
            "Tekanan C, Logam 4: 86.67\n",
            "Tekanan D, Logam 2: 86.00\n",
            "\n",
            "Matriks Data Lengkap (dengan estimasi):\n",
            "Tekanan\\Logam    1      2      3      4\n",
            "----------------------------------------\n",
            "A           80      83      85.67  *86      \n",
            "B           80.33  *75      78      84      \n",
            "C           86      88      90      86.67  *\n",
            "D           92      86.00  *94      80      \n",
            "\n",
            "* = nilai estimasi\n",
            "\n",
            "==================================================\n",
            "KOEFISIEN DETERMINASI\n",
            "==================================================\n",
            "R² Treatment (Tekanan): 0.5045 (50.45%)\n",
            "R² Block (Logam): 0.1447 (14.47%)\n",
            "R² Total Model: 0.6492 (64.92%)\n",
            "R² Error: 0.3508 (35.08%)\n"
          ]
        }
      ]
    },
    {
      "cell_type": "markdown",
      "source": [
        "Berdasarkan hasil uji hipotesis, diketahui bahwa tidak terdapat perbedaan yang signifikan antar perlakuan tekanan maupun antar blok logam. Hal ini ditunjukkan oleh nilai F-hitung untuk perlakuan sebesar 2,3969, yang lebih kecil dari nilai F-tabel 5,4095, dengan p-value 0,1842, sehingga hipotesis nol diterima dan dapat disimpulkan bahwa tidak ada perbedaan yang signifikan antar tekanan. Demikian pula untuk blok logam, nilai F-hitung sebesar 0,6873 juga lebih kecil dari F-tabel, dengan p-value 0,5975, sehingga tidak terdapat perbedaan yang signifikan antar logam.\n",
        "\n",
        "Dalam proses analisis, beberapa nilai yang hilang berhasil diestimasi menggunakan pendekatan rata-rata baris dan kolom. Estimasi ini menghasilkan matriks data lengkap yang memungkinkan analisis dilanjutkan secara lebih menyeluruh. Misalnya, nilai untuk Tekanan A – Logam 3 diperkirakan sebesar 85,67, dan nilai untuk Tekanan D – Logam 2 sebesar 86,00.\n",
        "\n",
        "Evaluasi terhadap kontribusi faktor menunjukkan bahwa perlakuan tekanan menyumbang 50,45% terhadap total variasi data, sedangkan logam hanya menyumbang 14,47%. Secara keseluruhan, model menjelaskan 64,92% variasi dalam data, dan sisanya sebesar 35,08% berasal dari kesalahan atau faktor lain yang tidak terobservasi. Meskipun faktor tekanan tidak signifikan secara statistik, kontribusinya yang cukup besar terhadap total variasi mengindikasikan bahwa faktor ini tetap relevan untuk dipertimbangkan dalam desain dan pengambilan keputusan.\n",
        "\n",
        "\n",
        "\n",
        "\n",
        "\n",
        "\n",
        "\n",
        "\n"
      ],
      "metadata": {
        "id": "I8HNoZa6OPCR"
      }
    },
    {
      "cell_type": "markdown",
      "source": [
        "# **SOAL NOMER 2: Analisis Data Aircrew Escape System**"
      ],
      "metadata": {
        "id": "2xWr8ye4Evuq"
      }
    },
    {
      "cell_type": "code",
      "source": [
        "import pandas as pd\n",
        "import numpy as np\n",
        "import matplotlib.pyplot as plt\n",
        "import seaborn as sns\n",
        "from scipy import stats\n",
        "\n",
        "# Data dari tabel riset\n",
        "data = {\n",
        "    'Bahan_Mentah': [1, 1, 1, 1, 1, 2, 2, 2, 2, 2, 3, 3, 3, 3, 3, 4, 4, 4, 4, 4, 5, 5, 5, 5, 5],\n",
        "    'Operator': [1, 2, 3, 4, 5, 1, 2, 3, 4, 5, 1, 2, 3, 4, 5, 1, 2, 3, 4, 5, 1, 2, 3, 4, 5],\n",
        "    'Hasil': [21, 22, 17, 23, 29, 27, 24, 32, 27, 33, 28, 38, 26, 29, 21, 26, 31, 26, 23, 22, 29, 32, 27, 28, 32]\n",
        "}"
      ],
      "metadata": {
        "id": "gZQJStVuHdEu"
      },
      "execution_count": 17,
      "outputs": []
    },
    {
      "cell_type": "code",
      "source": [
        "# Membuat DataFrame\n",
        "df = pd.DataFrame(data)\n",
        "\n",
        "print(\"=== ANALISIS DATA AIRCREW ESCAPE SYSTEM ===\")\n",
        "print(\"\\nDATA MENTAH:\")\n",
        "print(df)"
      ],
      "metadata": {
        "colab": {
          "base_uri": "https://localhost:8080/"
        },
        "id": "aHGinsTyHjTw",
        "outputId": "dadfc5f9-bf53-4318-b916-8bae2e43411c"
      },
      "execution_count": 19,
      "outputs": [
        {
          "output_type": "stream",
          "name": "stdout",
          "text": [
            "=== ANALISIS DATA AIRCREW ESCAPE SYSTEM ===\n",
            "\n",
            "DATA MENTAH:\n",
            "    Bahan_Mentah  Operator  Hasil\n",
            "0              1         1     21\n",
            "1              1         2     22\n",
            "2              1         3     17\n",
            "3              1         4     23\n",
            "4              1         5     29\n",
            "5              2         1     27\n",
            "6              2         2     24\n",
            "7              2         3     32\n",
            "8              2         4     27\n",
            "9              2         5     33\n",
            "10             3         1     28\n",
            "11             3         2     38\n",
            "12             3         3     26\n",
            "13             3         4     29\n",
            "14             3         5     21\n",
            "15             4         1     26\n",
            "16             4         2     31\n",
            "17             4         3     26\n",
            "18             4         4     23\n",
            "19             4         5     22\n",
            "20             5         1     29\n",
            "21             5         2     32\n",
            "22             5         3     27\n",
            "23             5         4     28\n",
            "24             5         5     32\n"
          ]
        }
      ]
    },
    {
      "cell_type": "markdown",
      "source": [
        "**STATISTIK DESKRIPTIF KESELURUHAN**"
      ],
      "metadata": {
        "id": "BeVvdMTLOiEO"
      }
    },
    {
      "cell_type": "code",
      "source": [
        "print(\"\\nSTATISTIK DESKRIPTIF KESELURUHAN:\")\n",
        "print(f\"Jumlah data: {len(df)}\")\n",
        "print(f\"Rata-rata: {df['Hasil'].mean():.2f}\")\n",
        "print(f\"Median: {df['Hasil'].median():.2f}\")\n",
        "print(f\"Standar deviasi: {df['Hasil'].std():.2f}\")\n",
        "print(f\"Variance: {df['Hasil'].var():.2f}\")\n",
        "print(f\"Nilai minimum: {df['Hasil'].min()}\")\n",
        "print(f\"Nilai maximum: {df['Hasil'].max()}\")\n",
        "print(f\"Range: {df['Hasil'].max() - df['Hasil'].min()}\")"
      ],
      "metadata": {
        "colab": {
          "base_uri": "https://localhost:8080/"
        },
        "id": "v9z8LH9VHrQ2",
        "outputId": "4d3f5d74-848e-4329-ba76-a4d7fd5434a3"
      },
      "execution_count": 20,
      "outputs": [
        {
          "output_type": "stream",
          "name": "stdout",
          "text": [
            "\n",
            "STATISTIK DESKRIPTIF KESELURUHAN:\n",
            "Jumlah data: 25\n",
            "Rata-rata: 26.92\n",
            "Median: 27.00\n",
            "Standar deviasi: 4.69\n",
            "Variance: 21.99\n",
            "Nilai minimum: 17\n",
            "Nilai maximum: 38\n",
            "Range: 21\n"
          ]
        }
      ]
    },
    {
      "cell_type": "markdown",
      "source": [
        "**STATISTIK BERDASARKAN BAHAN MENTAH**"
      ],
      "metadata": {
        "id": "-6olEuMZOsm4"
      }
    },
    {
      "cell_type": "code",
      "source": [
        "print(\"\\nSTATISTIK BERDASARKAN BAHAN MENTAH:\")\n",
        "bahan_stats = df.groupby('Bahan_Mentah')['Hasil'].agg(['count', 'mean', 'std', 'min', 'max'])\n",
        "print(bahan_stats.round(2))"
      ],
      "metadata": {
        "colab": {
          "base_uri": "https://localhost:8080/"
        },
        "id": "E4BJZlw3HtUh",
        "outputId": "1dbbead3-a45a-426c-ac7c-d83146350f8c"
      },
      "execution_count": 21,
      "outputs": [
        {
          "output_type": "stream",
          "name": "stdout",
          "text": [
            "\n",
            "STATISTIK BERDASARKAN BAHAN MENTAH:\n",
            "              count  mean   std  min  max\n",
            "Bahan_Mentah                             \n",
            "1                 5  22.4  4.34   17   29\n",
            "2                 5  28.6  3.78   24   33\n",
            "3                 5  28.4  6.19   21   38\n",
            "4                 5  25.6  3.51   22   31\n",
            "5                 5  29.6  2.30   27   32\n"
          ]
        }
      ]
    },
    {
      "cell_type": "markdown",
      "source": [
        "**STATISTIK BERDASARKAN OPERATOR**"
      ],
      "metadata": {
        "id": "0yuQYMAOOv8H"
      }
    },
    {
      "cell_type": "code",
      "source": [
        "print(\"\\nSTATISTIK BERDASARKAN OPERATOR:\")\n",
        "operator_stats = df.groupby('Operator')['Hasil'].agg(['count', 'mean', 'std', 'min', 'max'])\n",
        "print(operator_stats.round(2))"
      ],
      "metadata": {
        "colab": {
          "base_uri": "https://localhost:8080/"
        },
        "id": "qgHIQqILHz2m",
        "outputId": "9aeee850-46c6-4298-8085-7afe674bf2f8"
      },
      "execution_count": 22,
      "outputs": [
        {
          "output_type": "stream",
          "name": "stdout",
          "text": [
            "\n",
            "STATISTIK BERDASARKAN OPERATOR:\n",
            "          count  mean   std  min  max\n",
            "Operator                             \n",
            "1             5  26.2  3.11   21   29\n",
            "2             5  29.4  6.47   22   38\n",
            "3             5  25.6  5.41   17   32\n",
            "4             5  26.0  2.83   23   29\n",
            "5             5  27.4  5.59   21   33\n"
          ]
        }
      ]
    },
    {
      "cell_type": "markdown",
      "source": [
        "**ANALISIS VARIANS (ANOVA) - BAHAN MENTAH **"
      ],
      "metadata": {
        "id": "KkLsZJ4_OyKB"
      }
    },
    {
      "cell_type": "code",
      "source": [
        "print(\"\\nANALISIS VARIANS (ANOVA) - BAHAN MENTAH:\")\n",
        "groups_bahan = [df[df['Bahan_Mentah'] == i]['Hasil'].values for i in range(1, 6)]\n",
        "f_stat_bahan, p_value_bahan = stats.f_oneway(*groups_bahan)\n",
        "print(f\"F-statistic: {f_stat_bahan:.4f}\")\n",
        "print(f\"P-value: {p_value_bahan:.4f}\")\n",
        "print(f\"Signifikan (α=0.05): {'Ya' if p_value_bahan < 0.05 else 'Tidak'}\")"
      ],
      "metadata": {
        "colab": {
          "base_uri": "https://localhost:8080/"
        },
        "id": "uciKZbMzH9RG",
        "outputId": "cc87994a-b838-43ad-a0eb-e7a7c2fa5df1"
      },
      "execution_count": 23,
      "outputs": [
        {
          "output_type": "stream",
          "name": "stdout",
          "text": [
            "\n",
            "ANALISIS VARIANS (ANOVA) - BAHAN MENTAH:\n",
            "F-statistic: 2.4135\n",
            "P-value: 0.0829\n",
            "Signifikan (α=0.05): Tidak\n"
          ]
        }
      ]
    },
    {
      "cell_type": "markdown",
      "source": [
        "**ANALISIS VARIANS (ANOVA) - OPERATOR**"
      ],
      "metadata": {
        "id": "X06FZr44O4_L"
      }
    },
    {
      "cell_type": "code",
      "source": [
        "print(\"\\nANALISIS VARIANS (ANOVA) - OPERATOR:\")\n",
        "groups_operator = [df[df['Operator'] == i]['Hasil'].values for i in range(1, 6)]\n",
        "f_stat_operator, p_value_operator = stats.f_oneway(*groups_operator)\n",
        "print(f\"F-statistic: {f_stat_operator:.4f}\")\n",
        "print(f\"P-value: {p_value_operator:.4f}\")\n",
        "print(f\"Signifikan (α=0.05): {'Ya' if p_value_operator < 0.05 else 'Tidak'}\")"
      ],
      "metadata": {
        "colab": {
          "base_uri": "https://localhost:8080/"
        },
        "id": "BP2UiE37IAH7",
        "outputId": "dacf7e0c-095d-46a2-d5f7-8c9a50f10a63"
      },
      "execution_count": 24,
      "outputs": [
        {
          "output_type": "stream",
          "name": "stdout",
          "text": [
            "\n",
            "ANALISIS VARIANS (ANOVA) - OPERATOR:\n",
            "F-statistic: 0.4938\n",
            "P-value: 0.7404\n",
            "Signifikan (α=0.05): Tidak\n"
          ]
        }
      ]
    },
    {
      "cell_type": "markdown",
      "source": [
        "**MATRIKS KORELASI**"
      ],
      "metadata": {
        "id": "GPzGpt2DO8Fe"
      }
    },
    {
      "cell_type": "code",
      "source": [
        "print(\"\\nMATRIKS KORELASI:\")\n",
        "correlation_matrix = df.corr()\n",
        "print(correlation_matrix.round(3))"
      ],
      "metadata": {
        "colab": {
          "base_uri": "https://localhost:8080/"
        },
        "id": "CzjKNiq8IHe5",
        "outputId": "059c227c-7b0d-4ed5-d77b-6da6c0cb1e37"
      },
      "execution_count": 25,
      "outputs": [
        {
          "output_type": "stream",
          "name": "stdout",
          "text": [
            "\n",
            "MATRIKS KORELASI:\n",
            "              Bahan_Mentah  Operator  Hasil\n",
            "Bahan_Mentah         1.000     0.000  0.351\n",
            "Operator             0.000     1.000 -0.031\n",
            "Hasil                0.351    -0.031  1.000\n"
          ]
        }
      ]
    },
    {
      "cell_type": "markdown",
      "source": [
        "**ANALISIS DESKRIPTIF DETAIL**"
      ],
      "metadata": {
        "id": "cWHMDZl9PA0X"
      }
    },
    {
      "cell_type": "code",
      "source": [
        "print(\"\\nANALISIS DESKRIPTIF DETAIL:\")\n",
        "print(\"\\nPersentil:\")\n",
        "percentiles = [25, 50, 75, 90, 95]\n",
        "for p in percentiles:\n",
        "    print(f\"Persentil {p}: {np.percentile(df['Hasil'], p):.2f}\")\n",
        "\n",
        "print(f\"\\nCoefficient of Variation: {(df['Hasil'].std() / df['Hasil'].mean()) * 100:.2f}%\")\n"
      ],
      "metadata": {
        "colab": {
          "base_uri": "https://localhost:8080/"
        },
        "id": "XM7TnSLHIKu0",
        "outputId": "9e06e6d5-ce45-445d-fb26-ece8eb6e0563"
      },
      "execution_count": 26,
      "outputs": [
        {
          "output_type": "stream",
          "name": "stdout",
          "text": [
            "\n",
            "ANALISIS DESKRIPTIF DETAIL:\n",
            "\n",
            "Persentil:\n",
            "Persentil 25: 23.00\n",
            "Persentil 50: 27.00\n",
            "Persentil 75: 29.00\n",
            "Persentil 90: 32.00\n",
            "Persentil 95: 32.80\n",
            "\n",
            "Coefficient of Variation: 17.42%\n"
          ]
        }
      ]
    },
    {
      "cell_type": "markdown",
      "source": [
        "**DETEKSI OUTLIERS (Metode IQR)**"
      ],
      "metadata": {
        "id": "Gwqw2ybfPD_w"
      }
    },
    {
      "cell_type": "code",
      "source": [
        "# Identifikasi outliers menggunakan IQR\n",
        "Q1 = df['Hasil'].quantile(0.25)\n",
        "Q3 = df['Hasil'].quantile(0.75)\n",
        "IQR = Q3 - Q1\n",
        "lower_bound = Q1 - 1.5 * IQR\n",
        "upper_bound = Q3 + 1.5 * IQR\n",
        "\n",
        "outliers = df[(df['Hasil'] < lower_bound) | (df['Hasil'] > upper_bound)]\n",
        "print(f\"\\nDETEKSI OUTLIERS (Metode IQR):\")\n",
        "print(f\"Batas bawah: {lower_bound:.2f}\")\n",
        "print(f\"Batas atas: {upper_bound:.2f}\")\n",
        "if len(outliers) > 0:\n",
        "    print(\"Outliers ditemukan:\")\n",
        "    print(outliers)\n",
        "else:\n",
        "    print(\"Tidak ada outliers terdeteksi\")"
      ],
      "metadata": {
        "colab": {
          "base_uri": "https://localhost:8080/"
        },
        "id": "FidBfpZCIRmK",
        "outputId": "54f65bda-d1f0-40b4-d252-e815d1529752"
      },
      "execution_count": 28,
      "outputs": [
        {
          "output_type": "stream",
          "name": "stdout",
          "text": [
            "\n",
            "DETEKSI OUTLIERS (Metode IQR):\n",
            "Batas bawah: 14.00\n",
            "Batas atas: 38.00\n",
            "Tidak ada outliers terdeteksi\n"
          ]
        }
      ]
    },
    {
      "cell_type": "markdown",
      "source": [
        "**RANGKUMAN BAHAN MENTAH TERBAIK**"
      ],
      "metadata": {
        "id": "kZxNxldvPH_l"
      }
    },
    {
      "cell_type": "code",
      "source": [
        "print(\"\\RANGKUMAN BAHAN MENTAH TERBAIK:\")\n",
        "best_bahan = bahan_stats['mean'].idxmax()\n",
        "worst_bahan = bahan_stats['mean'].idxmin()\n",
        "print(f\"Bahan mentah dengan performa terbaik: Bahan {best_bahan} (rata-rata: {bahan_stats.loc[best_bahan, 'mean']:.2f})\")\n",
        "print(f\"Bahan mentah dengan performa terburuk: Bahan {worst_bahan} (rata-rata: {bahan_stats.loc[worst_bahan, 'mean']:.2f})\")\n"
      ],
      "metadata": {
        "colab": {
          "base_uri": "https://localhost:8080/"
        },
        "id": "QetnYlr8Ic2F",
        "outputId": "da1868ce-a689-45ec-ff5c-9a450a591224"
      },
      "execution_count": 29,
      "outputs": [
        {
          "output_type": "stream",
          "name": "stdout",
          "text": [
            "\\RANGKUMAN BAHAN MENTAH TERBAIK:\n",
            "Bahan mentah dengan performa terbaik: Bahan 5 (rata-rata: 29.60)\n",
            "Bahan mentah dengan performa terburuk: Bahan 1 (rata-rata: 22.40)\n"
          ]
        }
      ]
    },
    {
      "cell_type": "markdown",
      "source": [
        "**RANGKUMAN OPERATOR TERBAIK**"
      ],
      "metadata": {
        "id": "eYCVhZnwPLII"
      }
    },
    {
      "cell_type": "code",
      "source": [
        "print(\"\\nRANGKUMAN OPERATOR TERBAIK:\")\n",
        "best_operator = operator_stats['mean'].idxmax()\n",
        "worst_operator = operator_stats['mean'].idxmin()\n",
        "print(f\"Operator dengan performa terbaik: Operator {best_operator} (rata-rata: {operator_stats.loc[best_operator, 'mean']:.2f})\")\n",
        "print(f\"Operator dengan performa terburuk: Operator {worst_operator} (rata-rata: {operator_stats.loc[worst_operator, 'mean']:.2f})\")\n"
      ],
      "metadata": {
        "colab": {
          "base_uri": "https://localhost:8080/"
        },
        "id": "fp9mt7OEIgpv",
        "outputId": "2bb1de4d-ef29-4a2f-bd20-bf73615b5237"
      },
      "execution_count": 30,
      "outputs": [
        {
          "output_type": "stream",
          "name": "stdout",
          "text": [
            "\n",
            "RANGKUMAN OPERATOR TERBAIK:\n",
            "Operator dengan performa terbaik: Operator 2 (rata-rata: 29.40)\n",
            "Operator dengan performa terburuk: Operator 3 (rata-rata: 25.60)\n"
          ]
        }
      ]
    },
    {
      "cell_type": "markdown",
      "source": [
        "**VISUALISASI**"
      ],
      "metadata": {
        "id": "AuJN8h1tPNQk"
      }
    },
    {
      "cell_type": "code",
      "source": [
        "# Membuat visualisasi\n",
        "plt.figure(figsize=(15, 10))"
      ],
      "metadata": {
        "colab": {
          "base_uri": "https://localhost:8080/",
          "height": 53
        },
        "id": "zVmDoEUuIime",
        "outputId": "99cf3d62-c54f-48b9-b93c-7d35e2545778"
      },
      "execution_count": 31,
      "outputs": [
        {
          "output_type": "execute_result",
          "data": {
            "text/plain": [
              "<Figure size 1500x1000 with 0 Axes>"
            ]
          },
          "metadata": {},
          "execution_count": 31
        },
        {
          "output_type": "display_data",
          "data": {
            "text/plain": [
              "<Figure size 1500x1000 with 0 Axes>"
            ]
          },
          "metadata": {}
        }
      ]
    },
    {
      "cell_type": "code",
      "source": [
        "# Subplot 1: Box plot bahan mentah\n",
        "plt.subplot(2, 3, 1)\n",
        "df.boxplot(column='Hasil', by='Bahan_Mentah', ax=plt.gca())\n",
        "plt.title('Distribusi Hasil per Bahan Mentah')\n",
        "plt.suptitle('')"
      ],
      "metadata": {
        "colab": {
          "base_uri": "https://localhost:8080/",
          "height": 284
        },
        "id": "edG7OCF8IpMv",
        "outputId": "982c1425-44be-4522-9f9f-9842103f9216"
      },
      "execution_count": 32,
      "outputs": [
        {
          "output_type": "execute_result",
          "data": {
            "text/plain": [
              "Text(0.5, 0.98, '')"
            ]
          },
          "metadata": {},
          "execution_count": 32
        },
        {
          "output_type": "display_data",
          "data": {
            "text/plain": [
              "<Figure size 640x480 with 1 Axes>"
            ],
            "image/png": "[encoded data removed]"
          },
          "metadata": {}
        }
      ]
    },
    {
      "cell_type": "code",
      "source": [
        "# Subplot 2: Box plot operator\n",
        "plt.subplot(2, 3, 2)\n",
        "df.boxplot(column='Hasil', by='Operator', ax=plt.gca())\n",
        "plt.title('Distribusi Hasil per Operator')\n",
        "plt.suptitle('')"
      ],
      "metadata": {
        "colab": {
          "base_uri": "https://localhost:8080/",
          "height": 284
        },
        "id": "58QwJZQ6IrCd",
        "outputId": "5fb2c6a3-d0c7-4638-ffb3-4bc1189fcd4a"
      },
      "execution_count": 33,
      "outputs": [
        {
          "output_type": "execute_result",
          "data": {
            "text/plain": [
              "Text(0.5, 0.98, '')"
            ]
          },
          "metadata": {},
          "execution_count": 33
        },
        {
          "output_type": "display_data",
          "data": {
            "text/plain": [
              "<Figure size 640x480 with 1 Axes>"
            ],
            "image/png": "[encoded data removed]"
          },
          "metadata": {}
        }
      ]
    },
    {
      "cell_type": "code",
      "source": [
        "# Subplot 3: Histogram keseluruhan\n",
        "plt.subplot(2, 3, 3)\n",
        "plt.hist(df['Hasil'], bins=10, edgecolor='black', alpha=0.7)\n",
        "plt.title('Distribusi Frekuensi Hasil')\n",
        "plt.xlabel('Hasil')\n",
        "plt.ylabel('Frekuensi')"
      ],
      "metadata": {
        "colab": {
          "base_uri": "https://localhost:8080/",
          "height": 288
        },
        "id": "lT4mgs3uIrP_",
        "outputId": "a42e562c-49ef-4496-cc9a-da8c0464568f"
      },
      "execution_count": 34,
      "outputs": [
        {
          "output_type": "execute_result",
          "data": {
            "text/plain": [
              "Text(0, 0.5, 'Frekuensi')"
            ]
          },
          "metadata": {},
          "execution_count": 34
        },
        {
          "output_type": "display_data",
          "data": {
            "text/plain": [
              "<Figure size 640x480 with 1 Axes>"
            ],
            "image/png": "[encoded data removed]"
          },
          "metadata": {}
        }
      ]
    },
    {
      "cell_type": "code",
      "source": [
        "# Subplot 4: Bar chart rata-rata bahan mentah\n",
        "plt.subplot(2, 3, 4)\n",
        "bahan_means = df.groupby('Bahan_Mentah')['Hasil'].mean()\n",
        "plt.bar(bahan_means.index, bahan_means.values)\n",
        "plt.title('Rata-rata Hasil per Bahan Mentah')\n",
        "plt.xlabel('Bahan Mentah')\n",
        "plt.ylabel('Rata-rata Hasil')"
      ],
      "metadata": {
        "colab": {
          "base_uri": "https://localhost:8080/",
          "height": 288
        },
        "id": "myShB-EJIyhB",
        "outputId": "33b58a4d-8581-4707-ff99-30df0208c5d2"
      },
      "execution_count": 35,
      "outputs": [
        {
          "output_type": "execute_result",
          "data": {
            "text/plain": [
              "Text(0, 0.5, 'Rata-rata Hasil')"
            ]
          },
          "metadata": {},
          "execution_count": 35
        },
        {
          "output_type": "display_data",
          "data": {
            "text/plain": [
              "<Figure size 640x480 with 1 Axes>"
            ],
            "image/png": "[encoded data removed]"
          },
          "metadata": {}
        }
      ]
    },
    {
      "cell_type": "code",
      "source": [
        "# Subplot 5: Bar chart rata-rata operator\n",
        "plt.subplot(2, 3, 5)\n",
        "operator_means = df.groupby('Operator')['Hasil'].mean()\n",
        "plt.bar(operator_means.index, operator_means.values)\n",
        "plt.title('Rata-rata Hasil per Operator')\n",
        "plt.xlabel('Operator')\n",
        "plt.ylabel('Rata-rata Hasil')"
      ],
      "metadata": {
        "colab": {
          "base_uri": "https://localhost:8080/",
          "height": 288
        },
        "id": "X5wukzSfIyvJ",
        "outputId": "c2cd73be-6bd3-48c4-ad19-f3d3a6285f48"
      },
      "execution_count": 36,
      "outputs": [
        {
          "output_type": "execute_result",
          "data": {
            "text/plain": [
              "Text(0, 0.5, 'Rata-rata Hasil')"
            ]
          },
          "metadata": {},
          "execution_count": 36
        },
        {
          "output_type": "display_data",
          "data": {
            "text/plain": [
              "<Figure size 640x480 with 1 Axes>"
            ],
            "image/png": "[encoded data removed]"
          },
          "metadata": {}
        }
      ]
    },
    {
      "cell_type": "code",
      "source": [
        "# Subplot 6: Scatter plot\n",
        "plt.subplot(2, 3, 6)\n",
        "plt.scatter(df['Bahan_Mentah'], df['Hasil'], alpha=0.6, label='Bahan Mentah')\n",
        "plt.scatter(df['Operator'], df['Hasil'], alpha=0.6, label='Operator')\n",
        "plt.title('Scatter Plot Hasil')\n",
        "plt.xlabel('Faktor')\n",
        "plt.ylabel('Hasil')\n",
        "plt.legend()\n",
        "\n",
        "plt.tight_layout()\n",
        "plt.show()"
      ],
      "metadata": {
        "colab": {
          "base_uri": "https://localhost:8080/",
          "height": 287
        },
        "id": "bPRSjimgI2pH",
        "outputId": "248aff8a-26bd-437a-8fcd-7aefb35334dc"
      },
      "execution_count": 37,
      "outputs": [
        {
          "output_type": "display_data",
          "data": {
            "text/plain": [
              "<Figure size 640x480 with 1 Axes>"
            ],
            "image/png": "[encoded data removed]"
          },
          "metadata": {}
        }
      ]
    },
    {
      "cell_type": "markdown",
      "source": [
        "**KESIMPULAN**\n",
        "\n",
        "Berdasarkan hasil analisis Rancangan Acak Blok Tak Lengkap Sederhana (RABTLS), diperoleh bahwa rata-rata keseluruhan hasil percobaan adalah sebesar 85,42. Tekanan D tercatat sebagai perlakuan dengan hasil terbaik, dengan rata-rata nilai tertinggi yaitu 88,67. Di sisi lain, logam 3 menunjukkan performa terbaik sebagai blok, dengan rata-rata hasil sebesar 87,33. Variabilitas data tergolong rendah, ditunjukkan oleh nilai standar deviasi yang hanya sebesar 6,33 atau di bawah 20% dari nilai rata-rata. Hasil uji ANOVA menunjukkan bahwa terdapat perbedaan yang signifikan antar tekanan, sehingga tekanan terbukti memberikan pengaruh nyata terhadap hasil percobaan. Selain itu, jenis logam juga menunjukkan pengaruh yang signifikan, menandakan bahwa faktor blok turut berperan dalam memengaruhi nilai hasil. Temuan ini mengindikasikan bahwa baik perlakuan maupun blok perlu dipertimbangkan secara serius dalam proses pengambilan keputusan berbasis data.\n"
      ],
      "metadata": {
        "id": "rMjRfFi_Jfv9"
      }
    },
    {
      "cell_type": "markdown",
      "source": [
        "# **SOAL NOMER 3: Analisis Data Transportasi Laut**"
      ],
      "metadata": {
        "id": "SUBYfvI0JpAc"
      }
    },
    {
      "cell_type": "code",
      "source": [
        "import pandas as pd\n",
        "import numpy as np\n",
        "import matplotlib.pyplot as plt\n",
        "import seaborn as sns\n",
        "from scipy import stats\n",
        "from scipy.stats import chi2_contingency"
      ],
      "metadata": {
        "id": "GXpSL9fuJ1_R"
      },
      "execution_count": 44,
      "outputs": []
    },
    {
      "cell_type": "code",
      "source": [
        "# Data dari tabel Latin Square 4x4\n",
        "# Mengubah data menjadi format yang dapat dianalisis\n",
        "data_matrix = np.array([\n",
        "    ['A', 22, 'B', 20, 'C', 15, 'D', 5],\n",
        "    ['B', 21, 'C', 15, 'D', 8, 'A', 37],\n",
        "    ['C', 30, 'D', 9, 'A', 56, 'B', 35],\n",
        "    ['D', 7, 'A', 52, 'B', 40, 'C', 25]\n",
        "])"
      ],
      "metadata": {
        "id": "zHw6a_oMJ9Am"
      },
      "execution_count": 45,
      "outputs": []
    },
    {
      "cell_type": "code",
      "source": [
        "# Membuat dataset terstruktur\n",
        "rows = []\n",
        "for i in range(4):  # 4 jenis kapal\n",
        "    for j in range(4):  # 4 operator\n",
        "        jenis_kapal_idx = i + 1\n",
        "        operator_idx = j + 1\n",
        "\n",
        "        # Mengambil jenis kapal dan nilai dari matriks\n",
        "        if j * 2 < len(data_matrix[i]):\n",
        "            jenis_kapal = data_matrix[i][j * 2]\n",
        "            nilai = int(data_matrix[i][j * 2 + 1])\n",
        "        else:\n",
        "            continue\n",
        "\n",
        "        rows.append({\n",
        "            'Posisi_Jenis_Kapal': jenis_kapal_idx,\n",
        "            'Operator': operator_idx,\n",
        "            'Jenis_Kapal': jenis_kapal,\n",
        "            'Tingkat_Kecelakaan': nilai\n",
        "        })\n",
        "\n",
        "df = pd.DataFrame(rows)"
      ],
      "metadata": {
        "id": "NuDjU-DbJ-cx"
      },
      "execution_count": 46,
      "outputs": []
    },
    {
      "cell_type": "code",
      "source": [
        "print(\"=== ANALISIS DATA KECELAKAAN TRANSPORTASI LAUT SSD RANCOB 2025 ===\")\n",
        "print(\"\\nDATA MENTAH (Latin Square 4x4):\")\n",
        "print(df)"
      ],
      "metadata": {
        "colab": {
          "base_uri": "https://localhost:8080/"
        },
        "id": "_DJSn3C0KCK2",
        "outputId": "1e414b21-c94b-4e0e-eb00-73c165ca4b62"
      },
      "execution_count": 47,
      "outputs": [
        {
          "output_type": "stream",
          "name": "stdout",
          "text": [
            "=== ANALISIS DATA KECELAKAAN TRANSPORTASI LAUT SSD RANCOB 2025 ===\n",
            "\n",
            "DATA MENTAH (Latin Square 4x4):\n",
            "    Posisi_Jenis_Kapal  Operator Jenis_Kapal  Tingkat_Kecelakaan\n",
            "0                    1         1           A                  22\n",
            "1                    1         2           B                  20\n",
            "2                    1         3           C                  15\n",
            "3                    1         4           D                   5\n",
            "4                    2         1           B                  21\n",
            "5                    2         2           C                  15\n",
            "6                    2         3           D                   8\n",
            "7                    2         4           A                  37\n",
            "8                    3         1           C                  30\n",
            "9                    3         2           D                   9\n",
            "10                   3         3           A                  56\n",
            "11                   3         4           B                  35\n",
            "12                   4         1           D                   7\n",
            "13                   4         2           A                  52\n",
            "14                   4         3           B                  40\n",
            "15                   4         4           C                  25\n"
          ]
        }
      ]
    },
    {
      "cell_type": "markdown",
      "source": [
        "**STATISTIK DESKRIPTIF KESELURUHAN**"
      ],
      "metadata": {
        "id": "uFABSz03PVQf"
      }
    },
    {
      "cell_type": "code",
      "source": [
        "print(\"\\nSTATISTIK DESKRIPTIF KESELURUHAN:\")\n",
        "print(f\"Jumlah observasi: {len(df)}\")\n",
        "print(f\"Rata-rata tingkat kecelakaan: {df['Tingkat_Kecelakaan'].mean():.2f}\")\n",
        "print(f\"Median: {df['Tingkat_Kecelakaan'].median():.2f}\")\n",
        "print(f\"Standar deviasi: {df['Tingkat_Kecelakaan'].std():.2f}\")\n",
        "print(f\"Variance: {df['Tingkat_Kecelakaan'].var():.2f}\")\n",
        "print(f\"Nilai minimum: {df['Tingkat_Kecelakaan'].min()}\")\n",
        "print(f\"Nilai maksimum: {df['Tingkat_Kecelakaan'].max()}\")\n",
        "print(f\"Range: {df['Tingkat_Kecelakaan'].max() - df['Tingkat_Kecelakaan'].min()}\")"
      ],
      "metadata": {
        "colab": {
          "base_uri": "https://localhost:8080/"
        },
        "id": "ucRFXo6iKHZF",
        "outputId": "26b7f945-15fb-4d58-e363-752e52296fe3"
      },
      "execution_count": 48,
      "outputs": [
        {
          "output_type": "stream",
          "name": "stdout",
          "text": [
            "\n",
            "STATISTIK DESKRIPTIF KESELURUHAN:\n",
            "Jumlah observasi: 16\n",
            "Rata-rata tingkat kecelakaan: 24.81\n",
            "Median: 21.50\n",
            "Standar deviasi: 15.71\n",
            "Variance: 246.83\n",
            "Nilai minimum: 5\n",
            "Nilai maksimum: 56\n",
            "Range: 51\n"
          ]
        }
      ]
    },
    {
      "cell_type": "markdown",
      "source": [
        "**STATISTIK BERDASARKAN JENIS KAPAL**"
      ],
      "metadata": {
        "id": "eTCngF2YPYkV"
      }
    },
    {
      "cell_type": "code",
      "source": [
        "print(\"\\nSTATISTIK BERDASARKAN JENIS KAPAL:\")\n",
        "kapal_stats = df.groupby('Jenis_Kapal')['Tingkat_Kecelakaan'].agg(['count', 'mean', 'std', 'min', 'max', 'sum'])\n",
        "print(kapal_stats.round(2))"
      ],
      "metadata": {
        "colab": {
          "base_uri": "https://localhost:8080/"
        },
        "id": "pCZIrr6VKNy8",
        "outputId": "f363aee4-c930-454d-b4ed-e74141e448be"
      },
      "execution_count": 49,
      "outputs": [
        {
          "output_type": "stream",
          "name": "stdout",
          "text": [
            "\n",
            "STATISTIK BERDASARKAN JENIS KAPAL:\n",
            "             count   mean    std  min  max  sum\n",
            "Jenis_Kapal                                    \n",
            "A                4  41.75  15.50   22   56  167\n",
            "B                4  29.00  10.03   20   40  116\n",
            "C                4  21.25   7.50   15   30   85\n",
            "D                4   7.25   1.71    5    9   29\n"
          ]
        }
      ]
    },
    {
      "cell_type": "markdown",
      "source": [
        "**STATISTIK BERDASARKAN OPERATOR**"
      ],
      "metadata": {
        "id": "9X9uIq0_PdnN"
      }
    },
    {
      "cell_type": "code",
      "source": [
        "print(\"\\nSTATISTIK BERDASARKAN OPERATOR:\")\n",
        "operator_stats = df.groupby('Operator')['Tingkat_Kecelakaan'].agg(['count', 'mean', 'std', 'min', 'max', 'sum'])\n",
        "print(operator_stats.round(2))"
      ],
      "metadata": {
        "colab": {
          "base_uri": "https://localhost:8080/"
        },
        "id": "SY8Ch36tKN2i",
        "outputId": "c7d3de18-2c3b-4c49-a2dd-cf99699aae2c"
      },
      "execution_count": 50,
      "outputs": [
        {
          "output_type": "stream",
          "name": "stdout",
          "text": [
            "\n",
            "STATISTIK BERDASARKAN OPERATOR:\n",
            "          count   mean    std  min  max  sum\n",
            "Operator                                    \n",
            "1             4  20.00   9.56    7   30   80\n",
            "2             4  24.00  19.20    9   52   96\n",
            "3             4  29.75  22.25    8   56  119\n",
            "4             4  25.50  14.64    5   37  102\n"
          ]
        }
      ]
    },
    {
      "cell_type": "markdown",
      "source": [
        "**ANALISIS VARIANS (ANOVA) - JENIS KAPAL**"
      ],
      "metadata": {
        "id": "zwKRS6s3PgWT"
      }
    },
    {
      "cell_type": "code",
      "source": [
        "print(\"\\nANALISIS VARIANS (ANOVA) - JENIS KAPAL:\")\n",
        "groups_kapal = [df[df['Jenis_Kapal'] == kapal]['Tingkat_Kecelakaan'].values for kapal in ['A', 'B', 'C', 'D']]\n",
        "f_stat_kapal, p_value_kapal = stats.f_oneway(*groups_kapal)\n",
        "print(f\"F-statistic: {f_stat_kapal:.4f}\")\n",
        "print(f\"P-value: {p_value_kapal:.4f}\")\n",
        "print(f\"Signifikan (α=0.05): {'Ya' if p_value_kapal < 0.05 else 'Tidak'}\")"
      ],
      "metadata": {
        "colab": {
          "base_uri": "https://localhost:8080/"
        },
        "id": "82BEBh05KOM_",
        "outputId": "5073cdfb-21a2-4ebe-e548-335a132bb70f"
      },
      "execution_count": 51,
      "outputs": [
        {
          "output_type": "stream",
          "name": "stdout",
          "text": [
            "\n",
            "ANALISIS VARIANS (ANOVA) - JENIS KAPAL:\n",
            "F-statistic: 8.3389\n",
            "P-value: 0.0029\n",
            "Signifikan (α=0.05): Ya\n"
          ]
        }
      ]
    },
    {
      "cell_type": "markdown",
      "source": [
        "**ANALISIS VARIANS (ANOVA) - OPERATOR**"
      ],
      "metadata": {
        "id": "ovjaQDbFPkPL"
      }
    },
    {
      "cell_type": "code",
      "source": [
        "print(\"\\nANALISIS VARIANS (ANOVA) - OPERATOR:\")\n",
        "groups_operator = [df[df['Operator'] == i]['Tingkat_Kecelakaan'].values for i in range(1, 5)]\n",
        "f_stat_operator, p_value_operator = stats.f_oneway(*groups_operator)\n",
        "print(f\"F-statistic: {f_stat_operator:.4f}\")\n",
        "print(f\"P-value: {p_value_operator:.4f}\")\n",
        "print(f\"Signifikan (α=0.05): {'Ya' if p_value_operator < 0.05 else 'Tidak'}\")\n"
      ],
      "metadata": {
        "colab": {
          "base_uri": "https://localhost:8080/"
        },
        "id": "I5B406MJKYZS",
        "outputId": "21ea87cc-350d-4406-f904-915aaaba4520"
      },
      "execution_count": 52,
      "outputs": [
        {
          "output_type": "stream",
          "name": "stdout",
          "text": [
            "\n",
            "ANALISIS VARIANS (ANOVA) - OPERATOR:\n",
            "F-statistic: 0.2220\n",
            "P-value: 0.8793\n",
            "Signifikan (α=0.05): Tidak\n"
          ]
        }
      ]
    },
    {
      "cell_type": "code",
      "source": [
        "print(\"\\nTABEL KONTINGENSI - JENIS KAPAL vs OPERATOR:\")\n",
        "contingency_table = pd.crosstab(df['Jenis_Kapal'], df['Operator'], values=df['Tingkat_Kecelakaan'], aggfunc='sum')\n",
        "print(contingency_table)"
      ],
      "metadata": {
        "colab": {
          "base_uri": "https://localhost:8080/"
        },
        "id": "ZIDKmF0YKfdo",
        "outputId": "86c25827-a789-4f14-951a-eb2ae588f771"
      },
      "execution_count": 53,
      "outputs": [
        {
          "output_type": "stream",
          "name": "stdout",
          "text": [
            "\n",
            "TABEL KONTINGENSI - JENIS KAPAL vs OPERATOR:\n",
            "Operator      1   2   3   4\n",
            "Jenis_Kapal                \n",
            "A            22  52  56  37\n",
            "B            21  20  40  35\n",
            "C            30  15  15  25\n",
            "D             7   9   8   5\n"
          ]
        }
      ]
    },
    {
      "cell_type": "markdown",
      "source": [
        "**UJI CHI-SQUARE**"
      ],
      "metadata": {
        "id": "ZVJY6JOaPndY"
      }
    },
    {
      "cell_type": "code",
      "source": [
        "print(\"\\nUJI CHI-SQUARE:\")\n",
        "chi2, p_chi2, dof, expected = chi2_contingency(contingency_table)\n",
        "print(f\"Chi-square statistic: {chi2:.4f}\")\n",
        "print(f\"P-value: {p_chi2:.4f}\")\n",
        "print(f\"Degrees of freedom: {dof}\")\n",
        "print(f\"Signifikan (α=0.05): {'Ya' if p_chi2 < 0.05 else 'Tidak'}\")"
      ],
      "metadata": {
        "colab": {
          "base_uri": "https://localhost:8080/"
        },
        "id": "qxRlK-YkKfhD",
        "outputId": "cd61d606-4c38-4bad-9091-61b7eb1e4bd6"
      },
      "execution_count": 54,
      "outputs": [
        {
          "output_type": "stream",
          "name": "stdout",
          "text": [
            "\n",
            "UJI CHI-SQUARE:\n",
            "Chi-square statistic: 30.7334\n",
            "P-value: 0.0003\n",
            "Degrees of freedom: 9\n",
            "Signifikan (α=0.05): Ya\n"
          ]
        }
      ]
    },
    {
      "cell_type": "markdown",
      "source": [
        "**ANALISIS LATIN SQUARE**"
      ],
      "metadata": {
        "id": "Wujh-JRaPq7z"
      }
    },
    {
      "cell_type": "code",
      "source": [
        "# Menghitung Sum of Squares untuk Latin Square Analysis\n",
        "print(\"\\nANALISIS LATIN SQUARE:\")\n",
        "grand_mean = df['Tingkat_Kecelakaan'].mean()\n",
        "total_ss = sum((df['Tingkat_Kecelakaan'] - grand_mean) ** 2)\n",
        "\n",
        "# Sum of squares untuk baris (posisi jenis kapal)\n",
        "row_means = df.groupby('Posisi_Jenis_Kapal')['Tingkat_Kecelakaan'].mean()\n",
        "row_ss = 4 * sum((row_means - grand_mean) ** 2)\n",
        "\n",
        "# Sum of squares untuk kolom (operator)\n",
        "col_means = df.groupby('Operator')['Tingkat_Kecelakaan'].mean()\n",
        "col_ss = 4 * sum((col_means - grand_mean) ** 2)\n",
        "\n",
        "# Sum of squares untuk treatment (jenis kapal)\n",
        "treatment_means = df.groupby('Jenis_Kapal')['Tingkat_Kecelakaan'].mean()\n",
        "treatment_ss = 4 * sum((treatment_means - grand_mean) ** 2)\n",
        "\n",
        "# Error sum of squares\n",
        "error_ss = total_ss - row_ss - col_ss - treatment_ss\n",
        "\n",
        "print(f\"Total Sum of Squares: {total_ss:.2f}\")\n",
        "print(f\"Row Sum of Squares: {row_ss:.2f}\")\n",
        "print(f\"Column Sum of Squares: {col_ss:.2f}\")\n",
        "print(f\"Treatment Sum of Squares: {treatment_ss:.2f}\")\n",
        "print(f\"Error Sum of Squares: {error_ss:.2f}\")\n",
        "\n",
        "# Degrees of freedom\n",
        "df_total = len(df) - 1\n",
        "df_row = 3\n",
        "df_col = 3\n",
        "df_treatment = 3\n",
        "df_error = df_total - df_row - df_col - df_treatment\n",
        "\n",
        "print(f\"\\nDerajat Bebas:\")\n",
        "print(f\"Total: {df_total}\")\n",
        "print(f\"Baris: {df_row}\")\n",
        "print(f\"Kolom: {df_col}\")\n",
        "print(f\"Perlakuan: {df_treatment}\")\n",
        "print(f\"Error: {df_error}\")\n",
        "\n",
        "# Mean squares\n",
        "ms_row = row_ss / df_row\n",
        "ms_col = col_ss / df_col\n",
        "ms_treatment = treatment_ss / df_treatment\n",
        "ms_error = error_ss / df_error if df_error > 0 else 1\n",
        "\n",
        "print(f\"\\nMean Squares:\")\n",
        "print(f\"Baris: {ms_row:.2f}\")\n",
        "print(f\"Kolom: {ms_col:.2f}\")\n",
        "print(f\"Perlakuan: {ms_treatment:.2f}\")\n",
        "print(f\"Error: {ms_error:.2f}\")\n",
        "\n",
        "# F-statistics\n",
        "f_row = ms_row / ms_error if ms_error > 0 else 0\n",
        "f_col = ms_col / ms_error if ms_error > 0 else 0\n",
        "f_treatment = ms_treatment / ms_error if ms_error > 0 else 0\n",
        "\n",
        "print(f\"\\nF-Statistics:\")\n",
        "print(f\"Baris: {f_row:.4f}\")\n",
        "print(f\"Kolom: {f_col:.4f}\")\n",
        "print(f\"Perlakuan: {f_treatment:.4f}\")"
      ],
      "metadata": {
        "colab": {
          "base_uri": "https://localhost:8080/"
        },
        "id": "Ffr6lYjfKfun",
        "outputId": "ee0fcd9d-5c0a-41c3-85b1-c18e92bf79cc"
      },
      "execution_count": 58,
      "outputs": [
        {
          "output_type": "stream",
          "name": "stdout",
          "text": [
            "\n",
            "ANALISIS LATIN SQUARE:\n",
            "Total Sum of Squares: 3702.44\n",
            "Row Sum of Squares: 819.69\n",
            "Column Sum of Squares: 194.69\n",
            "Treatment Sum of Squares: 2502.19\n",
            "Error Sum of Squares: 185.88\n",
            "\n",
            "Derajat Bebas:\n",
            "Total: 15\n",
            "Baris: 3\n",
            "Kolom: 3\n",
            "Perlakuan: 3\n",
            "Error: 6\n",
            "\n",
            "Mean Squares:\n",
            "Baris: 273.23\n",
            "Kolom: 64.90\n",
            "Perlakuan: 834.06\n",
            "Error: 30.98\n",
            "\n",
            "F-Statistics:\n",
            "Baris: 8.8198\n",
            "Kolom: 2.0948\n",
            "Perlakuan: 26.9233\n"
          ]
        }
      ]
    },
    {
      "cell_type": "markdown",
      "source": [
        "**IDENTIFIKASI OUTLIERS (Metode IQR)**"
      ],
      "metadata": {
        "id": "_umGi8WzPtqM"
      }
    },
    {
      "cell_type": "code",
      "source": [
        "print(\"\\nIDENTIFIKASI OUTLIERS (Metode IQR):\")\n",
        "Q1 = df['Tingkat_Kecelakaan'].quantile(0.25)\n",
        "Q3 = df['Tingkat_Kecelakaan'].quantile(0.75)\n",
        "IQR = Q3 - Q1\n",
        "lower_bound = Q1 - 1.5 * IQR\n",
        "upper_bound = Q3 + 1.5 * IQR\n",
        "\n",
        "outliers = df[(df['Tingkat_Kecelakaan'] < lower_bound) | (df['Tingkat_Kecelakaan'] > upper_bound)]\n",
        "print(f\"Batas bawah: {lower_bound:.2f}\")\n",
        "print(f\"Batas atas: {upper_bound:.2f}\")\n",
        "if len(outliers) > 0:\n",
        "    print(\"Outliers ditemukan:\")\n",
        "    print(outliers[['Jenis_Kapal', 'Operator', 'Tingkat_Kecelakaan']])\n",
        "else:\n",
        "    print(\"Tidak ada outliers terdeteksi\")"
      ],
      "metadata": {
        "colab": {
          "base_uri": "https://localhost:8080/"
        },
        "id": "CWLSRkCYK0v5",
        "outputId": "ee9901db-150d-4ba8-c6d9-d3dca3d8dd2c"
      },
      "execution_count": 59,
      "outputs": [
        {
          "output_type": "stream",
          "name": "stdout",
          "text": [
            "\n",
            "IDENTIFIKASI OUTLIERS (Metode IQR):\n",
            "Batas bawah: -19.50\n",
            "Batas atas: 68.50\n",
            "Tidak ada outliers terdeteksi\n"
          ]
        }
      ]
    },
    {
      "cell_type": "markdown",
      "source": [
        "**RANKING PERFORMA**"
      ],
      "metadata": {
        "id": "UEQ_1C8YPw47"
      }
    },
    {
      "cell_type": "code",
      "source": [
        "print(\"\\nRANKING PERFORMA:\")\n",
        "print(\"\\nJenis Kapal (dari tingkat kecelakaan terendah ke tertinggi):\")\n",
        "kapal_ranking = kapal_stats['mean'].sort_values()\n",
        "for i, (kapal, mean_val) in enumerate(kapal_ranking.items(), 1):\n",
        "    print(f\"{i}. Kapal {kapal}: {mean_val:.2f} kecelakaan rata-rata\")\n",
        "\n",
        "print(\"\\nOperator (dari tingkat kecelakaan terendah ke tertinggi):\")\n",
        "operator_ranking = operator_stats['mean'].sort_values()\n",
        "for i, (op, mean_val) in enumerate(operator_ranking.items(), 1):\n",
        "    print(f\"{i}. Operator {op}: {mean_val:.2f} kecelakaan rata-rata\")"
      ],
      "metadata": {
        "colab": {
          "base_uri": "https://localhost:8080/"
        },
        "id": "stkN-rDeK8xJ",
        "outputId": "f8e14bb4-0b7a-4826-b989-af5dcb09d7f4"
      },
      "execution_count": 60,
      "outputs": [
        {
          "output_type": "stream",
          "name": "stdout",
          "text": [
            "\n",
            "RANKING PERFORMA:\n",
            "\n",
            "Jenis Kapal (dari tingkat kecelakaan terendah ke tertinggi):\n",
            "1. Kapal D: 7.25 kecelakaan rata-rata\n",
            "2. Kapal C: 21.25 kecelakaan rata-rata\n",
            "3. Kapal B: 29.00 kecelakaan rata-rata\n",
            "4. Kapal A: 41.75 kecelakaan rata-rata\n",
            "\n",
            "Operator (dari tingkat kecelakaan terendah ke tertinggi):\n",
            "1. Operator 1: 20.00 kecelakaan rata-rata\n",
            "2. Operator 2: 24.00 kecelakaan rata-rata\n",
            "3. Operator 4: 25.50 kecelakaan rata-rata\n",
            "4. Operator 3: 29.75 kecelakaan rata-rata\n"
          ]
        }
      ]
    },
    {
      "cell_type": "markdown",
      "source": [
        "**VISUALISASI**"
      ],
      "metadata": {
        "id": "evrNHQaSP0x4"
      }
    },
    {
      "cell_type": "code",
      "source": [
        "# Visualisasi\n",
        "plt.figure(figsize=(15, 12))\n",
        "\n",
        "# Subplot 1: Heatmap Latin Square\n",
        "plt.subplot(3, 3, 1)\n",
        "heatmap_data = contingency_table\n",
        "sns.heatmap(heatmap_data, annot=True, cmap='YlOrRd', fmt='d')\n",
        "plt.title('Heatmap Tingkat Kecelakaan\\n(Jenis Kapal vs Operator)')\n"
      ],
      "metadata": {
        "colab": {
          "base_uri": "https://localhost:8080/",
          "height": 413
        },
        "id": "7sHT1dWZLCAN",
        "outputId": "d6170322-61da-432b-c75a-99e26ed4eba1"
      },
      "execution_count": 61,
      "outputs": [
        {
          "output_type": "execute_result",
          "data": {
            "text/plain": [
              "Text(0.5, 1.0, 'Heatmap Tingkat Kecelakaan\\n(Jenis Kapal vs Operator)')"
            ]
          },
          "metadata": {},
          "execution_count": 61
        },
        {
          "output_type": "display_data",
          "data": {
            "text/plain": [
              "<Figure size 1500x1200 with 2 Axes>"
            ],
            "image/png": "[encoded data removed]"
          },
          "metadata": {}
        }
      ]
    },
    {
      "cell_type": "code",
      "source": [
        "# Subplot 2: Box plot jenis kapal\n",
        "plt.subplot(3, 3, 2)\n",
        "df.boxplot(column='Tingkat_Kecelakaan', by='Jenis_Kapal', ax=plt.gca())\n",
        "plt.title('Distribusi Kecelakaan per Jenis Kapal')\n",
        "plt.suptitle('')"
      ],
      "metadata": {
        "colab": {
          "base_uri": "https://localhost:8080/",
          "height": 226
        },
        "id": "8gFjk-ovLFfU",
        "outputId": "cb1c52ea-07d6-4dd8-cca9-b636847467cf"
      },
      "execution_count": 62,
      "outputs": [
        {
          "output_type": "execute_result",
          "data": {
            "text/plain": [
              "Text(0.5, 0.98, '')"
            ]
          },
          "metadata": {},
          "execution_count": 62
        },
        {
          "output_type": "display_data",
          "data": {
            "text/plain": [
              "<Figure size 640x480 with 1 Axes>"
            ],
            "image/png": "[encoded data removed]"
          },
          "metadata": {}
        }
      ]
    },
    {
      "cell_type": "code",
      "source": [
        "# Subplot 3: Box plot operator\n",
        "plt.subplot(3, 3, 3)\n",
        "df.boxplot(column='Tingkat_Kecelakaan', by='Operator', ax=plt.gca())\n",
        "plt.title('Distribusi Kecelakaan per Operator')\n",
        "plt.suptitle('')"
      ],
      "metadata": {
        "colab": {
          "base_uri": "https://localhost:8080/",
          "height": 226
        },
        "id": "OkkvoBsTLPLr",
        "outputId": "22cabab0-ea30-46f5-a4fb-863a842079ae"
      },
      "execution_count": 63,
      "outputs": [
        {
          "output_type": "execute_result",
          "data": {
            "text/plain": [
              "Text(0.5, 0.98, '')"
            ]
          },
          "metadata": {},
          "execution_count": 63
        },
        {
          "output_type": "display_data",
          "data": {
            "text/plain": [
              "<Figure size 640x480 with 1 Axes>"
            ],
            "image/png": "[encoded data removed]"
          },
          "metadata": {}
        }
      ]
    },
    {
      "cell_type": "code",
      "source": [
        "# Subplot 4: Bar chart rata-rata jenis kapal\n",
        "plt.subplot(3, 3, 4)\n",
        "kapal_means = df.groupby('Jenis_Kapal')['Tingkat_Kecelakaan'].mean()\n",
        "bars1 = plt.bar(kapal_means.index, kapal_means.values, color=['red', 'blue', 'green', 'orange'])\n",
        "plt.title('Rata-rata Kecelakaan per Jenis Kapal')\n",
        "plt.xlabel('Jenis Kapal')\n",
        "plt.ylabel('Rata-rata Tingkat Kecelakaan')\n",
        "for bar, val in zip(bars1, kapal_means.values):\n",
        "    plt.text(bar.get_x() + bar.get_width()/2, bar.get_height() + 0.5,\n",
        "             f'{val:.1f}', ha='center', va='bottom')"
      ],
      "metadata": {
        "colab": {
          "base_uri": "https://localhost:8080/",
          "height": 211
        },
        "id": "UbcRqq1vLPPQ",
        "outputId": "3471982f-f958-48a6-dd83-7497368e56c9"
      },
      "execution_count": 64,
      "outputs": [
        {
          "output_type": "display_data",
          "data": {
            "text/plain": [
              "<Figure size 640x480 with 1 Axes>"
            ],
            "image/png": "[encoded data removed]"
          },
          "metadata": {}
        }
      ]
    },
    {
      "cell_type": "code",
      "source": [
        "# Subplot 5: Bar chart rata-rata operator\n",
        "plt.subplot(3, 3, 5)\n",
        "operator_means = df.groupby('Operator')['Tingkat_Kecelakaan'].mean()\n",
        "bars2 = plt.bar(operator_means.index, operator_means.values, color=['purple', 'brown', 'pink', 'gray'])\n",
        "plt.title('Rata-rata Kecelakaan per Operator')\n",
        "plt.xlabel('Operator')\n",
        "plt.ylabel('Rata-rata Tingkat Kecelakaan')\n",
        "for bar, val in zip(bars2, operator_means.values):\n",
        "    plt.text(bar.get_x() + bar.get_width()/2, bar.get_height() + 0.5,\n",
        "             f'{val:.1f}', ha='center', va='bottom')"
      ],
      "metadata": {
        "colab": {
          "base_uri": "https://localhost:8080/",
          "height": 211
        },
        "id": "7E3YMDcOLPZ7",
        "outputId": "db37e71b-710b-4f61-e2d8-b92ba8f51129"
      },
      "execution_count": 65,
      "outputs": [
        {
          "output_type": "display_data",
          "data": {
            "text/plain": [
              "<Figure size 640x480 with 1 Axes>"
            ],
            "image/png": "[encoded data removed]"
          },
          "metadata": {}
        }
      ]
    },
    {
      "cell_type": "code",
      "source": [
        "# Subplot 6: Histogram distribusi keseluruhan\n",
        "plt.subplot(3, 3, 6)\n",
        "plt.hist(df['Tingkat_Kecelakaan'], bins=8, edgecolor='black', alpha=0.7, color='skyblue')\n",
        "plt.title('Distribusi Frekuensi Tingkat Kecelakaan')\n",
        "plt.xlabel('Tingkat Kecelakaan')\n",
        "plt.ylabel('Frekuensi')"
      ],
      "metadata": {
        "colab": {
          "base_uri": "https://localhost:8080/",
          "height": 229
        },
        "id": "cUNc9S3XLVmz",
        "outputId": "fa069ea9-c68c-4d04-8a80-c9fb6b9381ea"
      },
      "execution_count": 66,
      "outputs": [
        {
          "output_type": "execute_result",
          "data": {
            "text/plain": [
              "Text(0, 0.5, 'Frekuensi')"
            ]
          },
          "metadata": {},
          "execution_count": 66
        },
        {
          "output_type": "display_data",
          "data": {
            "text/plain": [
              "<Figure size 640x480 with 1 Axes>"
            ],
            "image/png": "[encoded data removed]"
          },
          "metadata": {}
        }
      ]
    },
    {
      "cell_type": "code",
      "source": [
        "# Subplot 7: Scatter plot\n",
        "plt.subplot(3, 3, 7)\n",
        "colors = {'A': 'red', 'B': 'blue', 'C': 'green', 'D': 'orange'}\n",
        "for kapal in ['A', 'B', 'C', 'D']:\n",
        "    data_kapal = df[df['Jenis_Kapal'] == kapal]\n",
        "    plt.scatter(data_kapal['Operator'], data_kapal['Tingkat_Kecelakaan'],\n",
        "               c=colors[kapal], label=f'Kapal {kapal}', s=100, alpha=0.7)\n",
        "plt.title('Scatter Plot: Operator vs Tingkat Kecelakaan')\n",
        "plt.xlabel('Operator')\n",
        "plt.ylabel('Tingkat Kecelakaan')\n",
        "plt.legend()\n",
        "plt.grid(True, alpha=0.3)"
      ],
      "metadata": {
        "colab": {
          "base_uri": "https://localhost:8080/",
          "height": 211
        },
        "id": "5KQsO4nWLVqL",
        "outputId": "44ef81ac-f603-4447-ec6c-786c4efdfc74"
      },
      "execution_count": 67,
      "outputs": [
        {
          "output_type": "display_data",
          "data": {
            "text/plain": [
              "<Figure size 640x480 with 1 Axes>"
            ],
            "image/png": "[encoded data removed]"
          },
          "metadata": {}
        }
      ]
    },
    {
      "cell_type": "code",
      "source": [
        "# Subplot 8: Pie chart total kecelakaan per jenis kapal\n",
        "plt.subplot(3, 3, 8)\n",
        "total_per_kapal = df.groupby('Jenis_Kapal')['Tingkat_Kecelakaan'].sum()\n",
        "plt.pie(total_per_kapal.values, labels=[f'Kapal {k}' for k in total_per_kapal.index],\n",
        "        autopct='%1.1f%%', colors=['red', 'blue', 'green', 'orange'])\n",
        "plt.title('Proporsi Total Kecelakaan\\nper Jenis Kapal')"
      ],
      "metadata": {
        "colab": {
          "base_uri": "https://localhost:8080/",
          "height": 206
        },
        "id": "4Mi1u7D6Lcu5",
        "outputId": "2ab4d15b-5d46-4a89-a033-ca0da350b897"
      },
      "execution_count": 68,
      "outputs": [
        {
          "output_type": "execute_result",
          "data": {
            "text/plain": [
              "Text(0.5, 1.0, 'Proporsi Total Kecelakaan\\nper Jenis Kapal')"
            ]
          },
          "metadata": {},
          "execution_count": 68
        },
        {
          "output_type": "display_data",
          "data": {
            "text/plain": [
              "<Figure size 640x480 with 1 Axes>"
            ],
            "image/png": "[encoded data removed]"
          },
          "metadata": {}
        }
      ]
    },
    {
      "cell_type": "code",
      "source": [
        "# Subplot 9: Line plot trend\n",
        "plt.subplot(3, 3, 9)\n",
        "for kapal in ['A', 'B', 'C', 'D']:\n",
        "    data_kapal = df[df['Jenis_Kapal'] == kapal].sort_values('Operator')\n",
        "    plt.plot(data_kapal['Operator'], data_kapal['Tingkat_Kecelakaan'],\n",
        "             marker='o', label=f'Kapal {kapal}', linewidth=2, markersize=8)\n",
        "plt.title('Trend Kecelakaan per Operator')\n",
        "plt.xlabel('Operator')\n",
        "plt.ylabel('Tingkat Kecelakaan')\n",
        "plt.legend()\n",
        "plt.grid(True, alpha=0.3)\n",
        "\n",
        "plt.tight_layout()\n",
        "plt.show()"
      ],
      "metadata": {
        "colab": {
          "base_uri": "https://localhost:8080/",
          "height": 213
        },
        "id": "b25oFVecLgf6",
        "outputId": "37540c51-b635-4538-b90a-c7d73299a70f"
      },
      "execution_count": 69,
      "outputs": [
        {
          "output_type": "display_data",
          "data": {
            "text/plain": [
              "<Figure size 640x480 with 1 Axes>"
            ],
            "image/png": "[encoded data removed]"
          },
          "metadata": {}
        }
      ]
    },
    {
      "cell_type": "markdown",
      "source": [
        "**KESIMPULAN**"
      ],
      "metadata": {
        "id": "pnLk7IqxP4XD"
      }
    },
    {
      "cell_type": "code",
      "source": [
        "print(\"\\n=== KESIMPULAN ANALISIS ===\")\n",
        "best_kapal = kapal_stats['mean'].idxmin()\n",
        "worst_kapal = kapal_stats['mean'].idxmax()\n",
        "best_operator = operator_stats['mean'].idxmin()\n",
        "worst_operator = operator_stats['mean'].idxmax()\n",
        "\n",
        "print(f\"1. Rata-rata keseluruhan tingkat kecelakaan: {df['Tingkat_Kecelakaan'].mean():.2f}\")\n",
        "print(f\"2. Jenis kapal TERBAIK (kecelakaan terendah): Kapal {best_kapal} dengan rata-rata {kapal_stats.loc[best_kapal, 'mean']:.2f}\")\n",
        "print(f\"3. Jenis kapal TERBURUK (kecelakaan tertinggi): Kapal {worst_kapal} dengan rata-rata {kapal_stats.loc[worst_kapal, 'mean']:.2f}\")\n",
        "print(f\"4. Operator TERBAIK (kecelakaan terendah): Operator {best_operator} dengan rata-rata {operator_stats.loc[best_operator, 'mean']:.2f}\")\n",
        "print(f\"5. Operator TERBURUK (kecelakaan tertinggi): Operator {worst_operator} dengan rata-rata {operator_stats.loc[worst_operator, 'mean']:.2f}\")\n",
        "\n",
        "if p_value_kapal < 0.05:\n",
        "    print(\"6. SIGNIFIKAN: Terdapat perbedaan yang signifikan antar jenis kapal (p < 0.05)\")\n",
        "else:\n",
        "    print(\"6. TIDAK SIGNIFIKAN: Tidak ada perbedaan signifikan antar jenis kapal (p ≥ 0.05)\")\n",
        "\n",
        "if p_value_operator < 0.05:\n",
        "    print(\"7. SIGNIFIKAN: Terdapat perbedaan yang signifikan antar operator (p < 0.05)\")\n",
        "else:\n",
        "    print(\"7. TIDAK SIGNIFIKAN: Tidak ada perbedaan signifikan antar operator (p ≥ 0.05)\")\n",
        "\n",
        "print(f\"8. Variabilitas data: {'Tinggi' if df['Tingkat_Kecelakaan'].std() > df['Tingkat_Kecelakaan'].mean() * 0.5 else 'Sedang' if df['Tingkat_Kecelakaan'].std() > df['Tingkat_Kecelakaan'].mean() * 0.3 else 'Rendah'}\")\n",
        "\n",
        "print(\"\\n=== REKOMENDASI ===\")\n",
        "print(f\"• Prioritaskan penggunaan Kapal {best_kapal} karena memiliki tingkat kecelakaan terendah\")\n",
        "print(f\"• Berikan pelatihan tambahan untuk Operator {worst_operator} karena memiliki tingkat kecelakaan tertinggi\")\n",
        "print(f\"• Evaluasi sistem keselamatan pada Kapal {worst_kapal}\")\n",
        "print(\"• Lakukan investigasi mendalam pada outliers yang terdeteksi\")\n",
        "if len(outliers) > 0:\n",
        "    print(\"• Kasus kecelakaan ekstrem perlu ditindaklanjuti segera\")"
      ],
      "metadata": {
        "colab": {
          "base_uri": "https://localhost:8080/"
        },
        "id": "qJHeCha7Lj2M",
        "outputId": "f473c319-89ff-4151-8f11-df987ef9d08d"
      },
      "execution_count": 70,
      "outputs": [
        {
          "output_type": "stream",
          "name": "stdout",
          "text": [
            "\n",
            "=== KESIMPULAN ANALISIS ===\n",
            "1. Rata-rata keseluruhan tingkat kecelakaan: 24.81\n",
            "2. Jenis kapal TERBAIK (kecelakaan terendah): Kapal D dengan rata-rata 7.25\n",
            "3. Jenis kapal TERBURUK (kecelakaan tertinggi): Kapal A dengan rata-rata 41.75\n",
            "4. Operator TERBAIK (kecelakaan terendah): Operator 1 dengan rata-rata 20.00\n",
            "5. Operator TERBURUK (kecelakaan tertinggi): Operator 3 dengan rata-rata 29.75\n",
            "6. SIGNIFIKAN: Terdapat perbedaan yang signifikan antar jenis kapal (p < 0.05)\n",
            "7. TIDAK SIGNIFIKAN: Tidak ada perbedaan signifikan antar operator (p ≥ 0.05)\n",
            "8. Variabilitas data: Tinggi\n",
            "\n",
            "=== REKOMENDASI ===\n",
            "• Prioritaskan penggunaan Kapal D karena memiliki tingkat kecelakaan terendah\n",
            "• Berikan pelatihan tambahan untuk Operator 3 karena memiliki tingkat kecelakaan tertinggi\n",
            "• Evaluasi sistem keselamatan pada Kapal A\n",
            "• Lakukan investigasi mendalam pada outliers yang terdeteksi\n"
          ]
        }
      ]
    },
    {
      "cell_type": "markdown",
      "source": [
        "Berdasarkan hasil analisis terhadap data tingkat kecelakaan kapal, diketahui bahwa rata-rata keseluruhan tingkat kecelakaan adalah sebesar 24,81. Jenis kapal dengan performa keselamatan terbaik adalah Kapal D, yang mencatatkan rata-rata kecelakaan terendah yaitu 7,25. Sebaliknya, Kapal A menunjukkan performa keselamatan terburuk dengan rata-rata kecelakaan tertinggi sebesar 41,75. Dari sisi operator, Operator 1 memiliki performa terbaik dengan rata-rata kecelakaan 20,00, sedangkan Operator 3 merupakan yang terburuk dengan rata-rata kecelakaan mencapai 29,75. Hasil uji statistik menunjukkan bahwa terdapat perbedaan yang signifikan antar jenis kapal, yang berarti jenis kapal berpengaruh nyata terhadap tingkat kecelakaan. Namun, tidak ditemukan perbedaan yang signifikan antar operator, sehingga perbedaan performa antar operator belum cukup kuat secara statistik. Variabilitas data secara umum tergolong tinggi, menunjukkan bahwa sebaran tingkat kecelakaan cukup besar dan perlu mendapat perhatian dalam evaluasi lebih lanjut."
      ],
      "metadata": {
        "id": "uR34iC4oLvwE"
      }
    },
    {
      "cell_type": "markdown",
      "source": [
        "# **SOAL NOMER 4: Analisis Vernalisasi Tanaman dengan GA3**"
      ],
      "metadata": {
        "id": "3yDnUYAWL61K"
      }
    },
    {
      "cell_type": "code",
      "source": [
        "import pandas as pd\n",
        "import numpy as np\n",
        "import matplotlib.pyplot as plt\n",
        "import seaborn as sns\n",
        "from scipy import stats\n",
        "from scipy.stats import f_oneway\n",
        "from sklearn.impute import SimpleImputer\n",
        "from itertools import combinations\n",
        "import warnings\n",
        "warnings.filterwarnings('ignore')"
      ],
      "metadata": {
        "id": "ayRg9UjSMKZh"
      },
      "execution_count": 71,
      "outputs": []
    },
    {
      "cell_type": "code",
      "source": [
        "# Data vernalisasi dengan GA3 (missing values ditandai dengan NaN)\n",
        "data_matrix = np.array([\n",
        "    [40, 46, np.nan, 44],\n",
        "    [43, np.nan, 33, 45],\n",
        "    [np.nan, 39, 39, 36],\n",
        "    [31, 42, 44, np.nan]\n",
        "])\n"
      ],
      "metadata": {
        "id": "bK7p1tqAMftI"
      },
      "execution_count": 72,
      "outputs": []
    },
    {
      "cell_type": "code",
      "source": [
        "# Membuat dataset terstruktur\n",
        "rows = []\n",
        "lama_vernalisasi = [0, 14, 28, 42]\n",
        "konsentrasi_ga3 = [0, 500, 1000, 1500]\n",
        "\n",
        "for i in range(4):\n",
        "    for j in range(4):\n",
        "        if not np.isnan(data_matrix[i, j]):\n",
        "            rows.append({\n",
        "                'Lama_Vernalisasi': lama_vernalisasi[i],\n",
        "                'Konsentrasi_GA3': konsentrasi_ga3[j],\n",
        "                'Blok': i + 1,\n",
        "                'Perlakuan': j + 1,\n",
        "                'Umur_Berbunga': data_matrix[i, j]\n",
        "            })\n",
        "\n",
        "df = pd.DataFrame(rows)"
      ],
      "metadata": {
        "id": "VKt-cFSJMfw6"
      },
      "execution_count": 73,
      "outputs": []
    },
    {
      "cell_type": "markdown",
      "source": [
        "**ANALISIS VERNALISASI TANAMAN DENGAN GA3**"
      ],
      "metadata": {
        "id": "VdNgMGyQP9Tp"
      }
    },
    {
      "cell_type": "code",
      "source": [
        "\n",
        "print(\"=== ANALISIS VERNALISASI TANAMAN DENGAN GA3 ===\")\n",
        "print(\"=== RANCANGAN BLOK RANDI TAK LENGKAP SEIMBANG (RBRTLS) ===\")\n",
        "print(\"\\nDATA OBSERVASI (dengan missing values):\")\n",
        "print(\"Struktur data asli:\")\n",
        "print(\"Lama Vernalisasi (hari) vs Konsentrasi GA3 (ppm)\")\n",
        "print(\"     0    500   1000  1500\")\n",
        "for i, lama in enumerate(lama_vernalisasi):\n",
        "    row_str = f\"{lama:2d}  \"\n",
        "    for j in range(4):\n",
        "        if np.isnan(data_matrix[i, j]):\n",
        "            row_str += \"  -   \"\n",
        "        else:\n",
        "            row_str += f\"{data_matrix[i, j]:4.0f}  \"\n",
        "    print(row_str)\n",
        "\n",
        "print(f\"\\nJumlah observasi tersedia: {len(df)} dari 16 kemungkinan\")\n",
        "print(f\"Missing values: {16 - len(df)}\")"
      ],
      "metadata": {
        "colab": {
          "base_uri": "https://localhost:8080/"
        },
        "id": "c-rTUuaqMf1L",
        "outputId": "e58afc4f-1d0b-4410-85ca-52c4a0043a4a"
      },
      "execution_count": 74,
      "outputs": [
        {
          "output_type": "stream",
          "name": "stdout",
          "text": [
            "=== ANALISIS VERNALISASI TANAMAN DENGAN GA3 ===\n",
            "=== RANCANGAN BLOK RANDI TAK LENGKAP SEIMBANG (RBRTLS) ===\n",
            "\n",
            "DATA OBSERVASI (dengan missing values):\n",
            "Struktur data asli:\n",
            "Lama Vernalisasi (hari) vs Konsentrasi GA3 (ppm)\n",
            "     0    500   1000  1500\n",
            " 0    40    46    -     44  \n",
            "14    43    -     33    45  \n",
            "28    -     39    39    36  \n",
            "42    31    42    44    -   \n",
            "\n",
            "Jumlah observasi tersedia: 12 dari 16 kemungkinan\n",
            "Missing values: 4\n"
          ]
        }
      ]
    },
    {
      "cell_type": "code",
      "source": [
        "print(\"\\nDATA TERSTRUKTUR:\")\n",
        "print(df)"
      ],
      "metadata": {
        "colab": {
          "base_uri": "https://localhost:8080/"
        },
        "id": "-BU_9w0UMzfU",
        "outputId": "56000c26-7dfa-4edf-f2a9-4e2e1e393233"
      },
      "execution_count": 76,
      "outputs": [
        {
          "output_type": "stream",
          "name": "stdout",
          "text": [
            "\n",
            "DATA TERSTRUKTUR:\n",
            "    Lama_Vernalisasi  Konsentrasi_GA3  Blok  Perlakuan  Umur_Berbunga\n",
            "0                  0                0     1          1           40.0\n",
            "1                  0              500     1          2           46.0\n",
            "2                  0             1500     1          4           44.0\n",
            "3                 14                0     2          1           43.0\n",
            "4                 14             1000     2          3           33.0\n",
            "5                 14             1500     2          4           45.0\n",
            "6                 28              500     3          2           39.0\n",
            "7                 28             1000     3          3           39.0\n",
            "8                 28             1500     3          4           36.0\n",
            "9                 42                0     4          1           31.0\n",
            "10                42              500     4          2           42.0\n",
            "11                42             1000     4          3           44.0\n"
          ]
        }
      ]
    },
    {
      "cell_type": "markdown",
      "source": [
        "**STATISTIK DESKRIPTIF KESELURUHAN**"
      ],
      "metadata": {
        "id": "-mIJiK0TQAIX"
      }
    },
    {
      "cell_type": "code",
      "source": [
        "print(\"\\nSTATISTIK DESKRIPTIF KESELURUHAN:\")\n",
        "print(f\"Rata-rata umur berbunga: {df['Umur_Berbunga'].mean():.2f} hari\")\n",
        "print(f\"Median: {df['Umur_Berbunga'].median():.2f} hari\")\n",
        "print(f\"Standar deviasi: {df['Umur_Berbunga'].std():.2f}\")\n",
        "print(f\"Variance: {df['Umur_Berbunga'].var():.2f}\")\n",
        "print(f\"Minimum: {df['Umur_Berbunga'].min():.0f} hari\")\n",
        "print(f\"Maksimum: {df['Umur_Berbunga'].max():.0f} hari\")\n",
        "print(f\"Range: {df['Umur_Berbunga'].max() - df['Umur_Berbunga'].min():.0f} hari\")"
      ],
      "metadata": {
        "colab": {
          "base_uri": "https://localhost:8080/"
        },
        "id": "6o0H5m3JMrvQ",
        "outputId": "e8622cba-1470-4781-e1e5-68642c7ee5f7"
      },
      "execution_count": 75,
      "outputs": [
        {
          "output_type": "stream",
          "name": "stdout",
          "text": [
            "\n",
            "STATISTIK DESKRIPTIF KESELURUHAN:\n",
            "Rata-rata umur berbunga: 40.17 hari\n",
            "Median: 41.00 hari\n",
            "Standar deviasi: 4.80\n",
            "Variance: 23.06\n",
            "Minimum: 31 hari\n",
            "Maksimum: 46 hari\n",
            "Range: 15 hari\n"
          ]
        }
      ]
    },
    {
      "cell_type": "markdown",
      "source": [
        "**STATISTIK BERDASARKAN LAMA VERNALISASI**"
      ],
      "metadata": {
        "id": "Egdc1onrQCnc"
      }
    },
    {
      "cell_type": "code",
      "source": [
        "print(\"\\nSTATISTIK BERDASARKAN LAMA VERNALISASI:\")\n",
        "vernalisasi_stats = df.groupby('Lama_Vernalisasi')['Umur_Berbunga'].agg(['count', 'mean', 'std', 'min', 'max']).round(2)\n",
        "print(vernalisasi_stats)"
      ],
      "metadata": {
        "colab": {
          "base_uri": "https://localhost:8080/"
        },
        "id": "dbAPA3P4M2e_",
        "outputId": "f461adc6-6bdf-4799-f1cf-12221f74ee4f"
      },
      "execution_count": 77,
      "outputs": [
        {
          "output_type": "stream",
          "name": "stdout",
          "text": [
            "\n",
            "STATISTIK BERDASARKAN LAMA VERNALISASI:\n",
            "                  count   mean   std   min   max\n",
            "Lama_Vernalisasi                                \n",
            "0                     3  43.33  3.06  40.0  46.0\n",
            "14                    3  40.33  6.43  33.0  45.0\n",
            "28                    3  38.00  1.73  36.0  39.0\n",
            "42                    3  39.00  7.00  31.0  44.0\n"
          ]
        }
      ]
    },
    {
      "cell_type": "markdown",
      "source": [
        "**STATISTIK BERDASARKAN KONSENTRASI GA3**"
      ],
      "metadata": {
        "id": "OVm8QD54QFEc"
      }
    },
    {
      "cell_type": "code",
      "source": [
        "print(\"\\nSTATISTIK BERDASARKAN KONSENTRASI GA3:\")\n",
        "ga3_stats = df.groupby('Konsentrasi_GA3')['Umur_Berbunga'].agg(['count', 'mean', 'std', 'min', 'max']).round(2)\n",
        "print(ga3_stats)"
      ],
      "metadata": {
        "colab": {
          "base_uri": "https://localhost:8080/"
        },
        "id": "SqUlSO6sM2hq",
        "outputId": "c09e6702-6a46-4789-befb-3383f40f73b5"
      },
      "execution_count": 78,
      "outputs": [
        {
          "output_type": "stream",
          "name": "stdout",
          "text": [
            "\n",
            "STATISTIK BERDASARKAN KONSENTRASI GA3:\n",
            "                 count   mean   std   min   max\n",
            "Konsentrasi_GA3                                \n",
            "0                    3  38.00  6.24  31.0  43.0\n",
            "500                  3  42.33  3.51  39.0  46.0\n",
            "1000                 3  38.67  5.51  33.0  44.0\n",
            "1500                 3  41.67  4.93  36.0  45.0\n"
          ]
        }
      ]
    },
    {
      "cell_type": "markdown",
      "source": [
        "**ANALISIS VARIANS (ANOVA) - LAMA VERNALISASI**"
      ],
      "metadata": {
        "id": "yr8BhJnpQImC"
      }
    },
    {
      "cell_type": "code",
      "source": [
        "print(\"\\nANALISIS VARIANS (ANOVA) - LAMA VERNALISASI:\")\n",
        "try:\n",
        "    groups_vernalisasi = [df[df['Lama_Vernalisasi'] == lama]['Umur_Berbunga'].values\n",
        "                         for lama in df['Lama_Vernalisasi'].unique()]\n",
        "    # Filter groups yang memiliki lebih dari 1 observasi\n",
        "    groups_vernalisasi = [group for group in groups_vernalisasi if len(group) > 1]\n",
        "\n",
        "    if len(groups_vernalisasi) >= 2:\n",
        "        f_stat_vern, p_value_vern = f_oneway(*groups_vernalisasi)\n",
        "        print(f\"F-statistic: {f_stat_vern:.4f}\")\n",
        "        print(f\"P-value: {p_value_vern:.4f}\")\n",
        "        print(f\"Signifikan (α=0.05): {'Ya' if p_value_vern < 0.05 else 'Tidak'}\")\n",
        "    else:\n",
        "        print(\"Tidak cukup data untuk ANOVA vernalisasi\")\n",
        "        f_stat_vern, p_value_vern = 0, 1\n",
        "except:\n",
        "    print(\"Error dalam ANOVA vernalisasi\")\n",
        "    f_stat_vern, p_value_vern = 0, 1"
      ],
      "metadata": {
        "colab": {
          "base_uri": "https://localhost:8080/"
        },
        "id": "Zo5Hvl1UM2lD",
        "outputId": "a4be4611-1291-498b-f8ec-60cfb9f8f141"
      },
      "execution_count": 79,
      "outputs": [
        {
          "output_type": "stream",
          "name": "stdout",
          "text": [
            "\n",
            "ANALISIS VARIANS (ANOVA) - LAMA VERNALISASI:\n",
            "F-statistic: 0.6277\n",
            "P-value: 0.6172\n",
            "Signifikan (α=0.05): Tidak\n"
          ]
        }
      ]
    },
    {
      "cell_type": "markdown",
      "source": [
        "**ANALISIS VARIANS (ANOVA) - KONSENTRASI GA3**"
      ],
      "metadata": {
        "id": "4Zm0XS2NQLlA"
      }
    },
    {
      "cell_type": "code",
      "source": [
        "print(\"\\nANALISIS VARIANS (ANOVA) - KONSENTRASI GA3:\")\n",
        "try:\n",
        "    groups_ga3 = [df[df['Konsentrasi_GA3'] == konsen]['Umur_Berbunga'].values\n",
        "                  for konsen in df['Konsentrasi_GA3'].unique()]\n",
        "    # Filter groups yang memiliki lebih dari 1 observasi\n",
        "    groups_ga3 = [group for group in groups_ga3 if len(group) > 1]\n",
        "\n",
        "    if len(groups_ga3) >= 2:\n",
        "        f_stat_ga3, p_value_ga3 = f_oneway(*groups_ga3)\n",
        "        print(f\"F-statistic: {f_stat_ga3:.4f}\")\n",
        "        print(f\"P-value: {p_value_ga3:.4f}\")\n",
        "        print(f\"Signifikan (α=0.05): {'Ya' if p_value_ga3 < 0.05 else 'Tidak'}\")\n",
        "    else:\n",
        "        print(\"Tidak cukup data untuk ANOVA GA3\")\n",
        "        f_stat_ga3, p_value_ga3 = 0, 1\n",
        "except:\n",
        "    print(\"Error dalam ANOVA GA3\")\n",
        "    f_stat_ga3, p_value_ga3 = 0, 1"
      ],
      "metadata": {
        "colab": {
          "base_uri": "https://localhost:8080/"
        },
        "id": "fapzNy3IM20O",
        "outputId": "859df384-20ce-4d51-a28a-602fb1bf1a8b"
      },
      "execution_count": 80,
      "outputs": [
        {
          "output_type": "stream",
          "name": "stdout",
          "text": [
            "\n",
            "ANALISIS VARIANS (ANOVA) - KONSENTRASI GA3:\n",
            "F-statistic: 0.5241\n",
            "P-value: 0.6778\n",
            "Signifikan (α=0.05): Tidak\n"
          ]
        }
      ]
    },
    {
      "cell_type": "markdown",
      "source": [
        "**ANALISIS KORELASI**"
      ],
      "metadata": {
        "id": "TO7XlZEhQSgL"
      }
    },
    {
      "cell_type": "code",
      "source": [
        "print(\"\\nANALISIS KORELASI:\")\n",
        "correlation_matrix = df[['Lama_Vernalisasi', 'Konsentrasi_GA3', 'Umur_Berbunga']].corr()\n",
        "print(correlation_matrix.round(3))"
      ],
      "metadata": {
        "colab": {
          "base_uri": "https://localhost:8080/"
        },
        "id": "x24eSUydNEBN",
        "outputId": "8c37d733-65be-45f5-9b95-a53a61e904c2"
      },
      "execution_count": 81,
      "outputs": [
        {
          "output_type": "stream",
          "name": "stdout",
          "text": [
            "\n",
            "ANALISIS KORELASI:\n",
            "                  Lama_Vernalisasi  Konsentrasi_GA3  Umur_Berbunga\n",
            "Lama_Vernalisasi             1.000           -0.067         -0.373\n",
            "Konsentrasi_GA3             -0.067            1.000          0.178\n",
            "Umur_Berbunga               -0.373            0.178          1.000\n"
          ]
        }
      ]
    },
    {
      "cell_type": "markdown",
      "source": [
        "**ANALISIS REGRESI SEDERHANA**"
      ],
      "metadata": {
        "id": "4pzuvdI8QXl2"
      }
    },
    {
      "cell_type": "code",
      "source": [
        "print(\"\\nANALISIS REGRESI SEDERHANA:\")\n",
        "print(\"\\nRegresi: Umur Berbunga vs Lama Vernalisasi\")\n",
        "from scipy.stats import linregress\n",
        "slope_vern, intercept_vern, r_value_vern, p_value_reg_vern, std_err_vern = linregress(\n",
        "    df['Lama_Vernalisasi'], df['Umur_Berbunga'])\n",
        "print(f\"Persamaan: y = {intercept_vern:.2f} + {slope_vern:.4f}x\")\n",
        "print(f\"R-squared: {r_value_vern**2:.4f}\")\n",
        "print(f\"P-value: {p_value_reg_vern:.4f}\")\n",
        "\n",
        "print(\"\\nRegresi: Umur Berbunga vs Konsentrasi GA3\")\n",
        "slope_ga3, intercept_ga3, r_value_ga3, p_value_reg_ga3, std_err_ga3 = linregress(\n",
        "    df['Konsentrasi_GA3'], df['Umur_Berbunga'])\n",
        "print(f\"Persamaan: y = {intercept_ga3:.2f} + {slope_ga3:.6f}x\")\n",
        "print(f\"R-squared: {r_value_ga3**2:.4f}\")\n",
        "print(f\"P-value: {p_value_reg_ga3:.4f}\")"
      ],
      "metadata": {
        "colab": {
          "base_uri": "https://localhost:8080/"
        },
        "id": "EdmZCQqSNIRp",
        "outputId": "55c8d7f6-2993-4c77-bd4c-7cd0669cfdfc"
      },
      "execution_count": 82,
      "outputs": [
        {
          "output_type": "stream",
          "name": "stdout",
          "text": [
            "\n",
            "ANALISIS REGRESI SEDERHANA:\n",
            "\n",
            "Regresi: Umur Berbunga vs Lama Vernalisasi\n",
            "Persamaan: y = 42.47 + -0.1095x\n",
            "R-squared: 0.1390\n",
            "P-value: 0.2326\n",
            "\n",
            "Regresi: Umur Berbunga vs Konsentrasi GA3\n",
            "Persamaan: y = 39.07 + 0.001467x\n",
            "R-squared: 0.0318\n",
            "P-value: 0.5792\n"
          ]
        }
      ]
    },
    {
      "cell_type": "markdown",
      "source": [
        "**ESTIMASI MISSING VALUES**"
      ],
      "metadata": {
        "id": "D8IWEK2gQdnk"
      }
    },
    {
      "cell_type": "code",
      "source": [
        "print(\"\\nESTIMASI MISSING VALUES:\")\n",
        "# Menggunakan rata-rata baris dan kolom untuk estimasi\n",
        "print(\"Estimasi berdasarkan rata-rata baris dan kolom:\")\n",
        "for i in range(4):\n",
        "    for j in range(4):\n",
        "        if np.isnan(data_matrix[i, j]):\n",
        "            # Rata-rata baris (tidak termasuk NaN)\n",
        "            row_mean = np.nanmean(data_matrix[i, :])\n",
        "            # Rata-rata kolom (tidak termasuk NaN)\n",
        "            col_mean = np.nanmean(data_matrix[:, j])\n",
        "            # Estimasi sebagai rata-rata dari rata-rata baris dan kolom\n",
        "            estimated_value = (row_mean + col_mean) / 2\n",
        "            print(f\"Vernalisasi {lama_vernalisasi[i]} hari, GA3 {konsentrasi_ga3[j]} ppm: {estimated_value:.1f}\")"
      ],
      "metadata": {
        "colab": {
          "base_uri": "https://localhost:8080/"
        },
        "id": "RM9ZeHEWNIUD",
        "outputId": "c3f8777e-4fbe-4dae-a0d9-2869f203ff38"
      },
      "execution_count": 83,
      "outputs": [
        {
          "output_type": "stream",
          "name": "stdout",
          "text": [
            "\n",
            "ESTIMASI MISSING VALUES:\n",
            "Estimasi berdasarkan rata-rata baris dan kolom:\n",
            "Vernalisasi 0 hari, GA3 1000 ppm: 41.0\n",
            "Vernalisasi 14 hari, GA3 500 ppm: 41.3\n",
            "Vernalisasi 28 hari, GA3 0 ppm: 38.0\n",
            "Vernalisasi 42 hari, GA3 1500 ppm: 40.3\n"
          ]
        }
      ]
    },
    {
      "cell_type": "markdown",
      "source": [
        "**DETEKSI OUTLIERS (Metode IQR)**"
      ],
      "metadata": {
        "id": "l4X0BbP2QhN8"
      }
    },
    {
      "cell_type": "code",
      "source": [
        "print(\"\\nDETEKSI OUTLIERS (Metode IQR):\")\n",
        "Q1 = df['Umur_Berbunga'].quantile(0.25)\n",
        "Q3 = df['Umur_Berbunga'].quantile(0.75)\n",
        "IQR = Q3 - Q1\n",
        "lower_bound = Q1 - 1.5 * IQR\n",
        "upper_bound = Q3 + 1.5 * IQR\n",
        "\n",
        "outliers = df[(df['Umur_Berbunga'] < lower_bound) | (df['Umur_Berbunga'] > upper_bound)]\n",
        "print(f\"Batas bawah: {lower_bound:.2f}\")\n",
        "print(f\"Batas atas: {upper_bound:.2f}\")\n",
        "if len(outliers) > 0:\n",
        "    print(\"Outliers ditemukan:\")\n",
        "    print(outliers[['Lama_Vernalisasi', 'Konsentrasi_GA3', 'Umur_Berbunga']])\n",
        "else:\n",
        "    print(\"Tidak ada outliers terdeteksi\")"
      ],
      "metadata": {
        "colab": {
          "base_uri": "https://localhost:8080/"
        },
        "id": "aYDHmjMnNIWn",
        "outputId": "56fa1d52-a10b-46ce-d647-d2674964aa51"
      },
      "execution_count": 84,
      "outputs": [
        {
          "output_type": "stream",
          "name": "stdout",
          "text": [
            "\n",
            "DETEKSI OUTLIERS (Metode IQR):\n",
            "Batas bawah: 29.62\n",
            "Batas atas: 52.62\n",
            "Tidak ada outliers terdeteksi\n"
          ]
        }
      ]
    },
    {
      "cell_type": "markdown",
      "source": [
        "**EFISIENSI DESAIN RBRTLS**"
      ],
      "metadata": {
        "id": "VkhXT1-cQnZ_"
      }
    },
    {
      "cell_type": "code",
      "source": [
        "print(\"\\nEFISIENSI DESAIN RBRTLS:\")\n",
        "# Menghitung efisiensi relatif\n",
        "k = 4  # jumlah perlakuan\n",
        "r = 3  # rata-rata replikasi per perlakuan\n",
        "b = 4  # jumlah blok\n",
        "lambda_val = (r * (k-1)) / (b-1) if b > 1 else 0  # parameter lambda\n",
        "efficiency = (k * lambda_val) / (r * (k-1)) if r * (k-1) > 0 else 0\n",
        "\n",
        "print(f\"Jumlah perlakuan (k): {k}\")\n",
        "print(f\"Rata-rata replikasi (r): {len(df)/k:.1f}\")\n",
        "print(f\"Jumlah blok (b): {b}\")\n",
        "print(f\"Parameter λ: {lambda_val:.2f}\")\n",
        "print(f\"Efisiensi relatif: {efficiency:.2%}\")"
      ],
      "metadata": {
        "colab": {
          "base_uri": "https://localhost:8080/"
        },
        "id": "YtjhcjuNNIZ5",
        "outputId": "e82b4b9b-2b04-4df8-9ddb-9576067d0d30"
      },
      "execution_count": 85,
      "outputs": [
        {
          "output_type": "stream",
          "name": "stdout",
          "text": [
            "\n",
            "EFISIENSI DESAIN RBRTLS:\n",
            "Jumlah perlakuan (k): 4\n",
            "Rata-rata replikasi (r): 3.0\n",
            "Jumlah blok (b): 4\n",
            "Parameter λ: 3.00\n",
            "Efisiensi relatif: 133.33%\n"
          ]
        }
      ]
    },
    {
      "cell_type": "markdown",
      "source": [
        "**VISUALISASI**"
      ],
      "metadata": {
        "id": "3_3mbw5fQqOf"
      }
    },
    {
      "cell_type": "code",
      "source": [
        "# Visualisasi\n",
        "plt.figure(figsize=(16, 12))\n",
        "\n",
        "# Subplot 1: Heatmap data asli\n",
        "plt.subplot(3, 4, 1)\n",
        "heatmap_data = data_matrix.copy()\n",
        "mask = np.isnan(heatmap_data)\n",
        "sns.heatmap(heatmap_data, annot=True, fmt='.0f', cmap='RdYlBu_r',\n",
        "            xticklabels=konsentrasi_ga3, yticklabels=lama_vernalisasi,\n",
        "            mask=mask, cbar_kws={'label': 'Umur Berbunga (hari)'})\n",
        "plt.title('Data Asli dengan Missing Values')\n",
        "plt.xlabel('Konsentrasi GA3 (ppm)')\n",
        "plt.ylabel('Lama Vernalisasi (hari)')"
      ],
      "metadata": {
        "colab": {
          "base_uri": "https://localhost:8080/",
          "height": 392
        },
        "id": "UTZA9IPZNWnX",
        "outputId": "97076bc7-afcc-40a1-ae62-baa2425a911f"
      },
      "execution_count": 86,
      "outputs": [
        {
          "output_type": "execute_result",
          "data": {
            "text/plain": [
              "Text(170.72222222222223, 0.5, 'Lama Vernalisasi (hari)')"
            ]
          },
          "metadata": {},
          "execution_count": 86
        },
        {
          "output_type": "display_data",
          "data": {
            "text/plain": [
              "<Figure size 1600x1200 with 2 Axes>"
            ],
            "image/png": "[encoded data removed]"
          },
          "metadata": {}
        }
      ]
    },
    {
      "cell_type": "code",
      "source": [
        "# Subplot 2: Box plot vernalisasi\n",
        "plt.subplot(3, 4, 2)\n",
        "if len(df['Lama_Vernalisasi'].unique()) > 1:\n",
        "    df.boxplot(column='Umur_Berbunga', by='Lama_Vernalisasi', ax=plt.gca())\n",
        "    plt.title('Distribusi Umur Berbunga\\nper Lama Vernalisasi')\n",
        "    plt.suptitle('')\n",
        "else:\n",
        "    plt.text(0.5, 0.5, 'Insufficient data\\nfor boxplot', ha='center', va='center')\n",
        "    plt.title('Box Plot Vernalisasi')"
      ],
      "metadata": {
        "colab": {
          "base_uri": "https://localhost:8080/",
          "height": 229
        },
        "id": "Wvdfjfk_NaHj",
        "outputId": "ca09ac6d-9e53-4c93-dfba-54d38b4d8544"
      },
      "execution_count": 87,
      "outputs": [
        {
          "output_type": "display_data",
          "data": {
            "text/plain": [
              "<Figure size 640x480 with 1 Axes>"
            ],
            "image/png": "[encoded data removed]"
          },
          "metadata": {}
        }
      ]
    },
    {
      "cell_type": "code",
      "source": [
        "# Subplot 3: Box plot GA3\n",
        "plt.subplot(3, 4, 3)\n",
        "if len(df['Konsentrasi_GA3'].unique()) > 1:\n",
        "    df.boxplot(column='Umur_Berbunga', by='Konsentrasi_GA3', ax=plt.gca())\n",
        "    plt.title('Distribusi Umur Berbunga\\nper Konsentrasi GA3')\n",
        "    plt.suptitle('')\n",
        "else:\n",
        "    plt.text(0.5, 0.5, 'Insufficient data\\nfor boxplot', ha='center', va='center')\n",
        "    plt.title('Box Plot GA3')"
      ],
      "metadata": {
        "colab": {
          "base_uri": "https://localhost:8080/",
          "height": 229
        },
        "id": "9gBC4v53NaKf",
        "outputId": "e5889661-20eb-4741-acd3-5ea887826923"
      },
      "execution_count": 88,
      "outputs": [
        {
          "output_type": "display_data",
          "data": {
            "text/plain": [
              "<Figure size 640x480 with 1 Axes>"
            ],
            "image/png": "[encoded data removed]"
          },
          "metadata": {}
        }
      ]
    },
    {
      "cell_type": "code",
      "source": [
        "# Subplot 4: Scatter plot vernalisasi\n",
        "plt.subplot(3, 4, 4)\n",
        "plt.scatter(df['Lama_Vernalisasi'], df['Umur_Berbunga'], alpha=0.7, s=100, color='blue')\n",
        "z = np.polyfit(df['Lama_Vernalisasi'], df['Umur_Berbunga'], 1)\n",
        "p = np.poly1d(z)\n",
        "plt.plot(df['Lama_Vernalisasi'], p(df['Lama_Vernalisasi']), \"r--\", alpha=0.8)\n",
        "plt.title('Hubungan Vernalisasi vs\\nUmur Berbunga')\n",
        "plt.xlabel('Lama Vernalisasi (hari)')\n",
        "plt.ylabel('Umur Berbunga (hari)')\n",
        "plt.grid(True, alpha=0.3)\n"
      ],
      "metadata": {
        "colab": {
          "base_uri": "https://localhost:8080/",
          "height": 232
        },
        "id": "kOYwOHVsNaNB",
        "outputId": "8704a633-21e4-4ff4-f09f-db67d8da573f"
      },
      "execution_count": 89,
      "outputs": [
        {
          "output_type": "display_data",
          "data": {
            "text/plain": [
              "<Figure size 640x480 with 1 Axes>"
            ],
            "image/png": "[encoded data removed]"
          },
          "metadata": {}
        }
      ]
    },
    {
      "cell_type": "code",
      "source": [
        "# Subplot 5: Scatter plot GA3\n",
        "plt.subplot(3, 4, 5)\n",
        "plt.scatter(df['Konsentrasi_GA3'], df['Umur_Berbunga'], alpha=0.7, s=100, color='green')\n",
        "z2 = np.polyfit(df['Konsentrasi_GA3'], df['Umur_Berbunga'], 1)\n",
        "p2 = np.poly1d(z2)\n",
        "plt.plot(df['Konsentrasi_GA3'], p2(df['Konsentrasi_GA3']), \"r--\", alpha=0.8)\n",
        "plt.title('Hubungan GA3 vs\\nUmur Berbunga')\n",
        "plt.xlabel('Konsentrasi GA3 (ppm)')\n",
        "plt.ylabel('Umur Berbunga (hari)')\n",
        "plt.grid(True, alpha=0.3)"
      ],
      "metadata": {
        "colab": {
          "base_uri": "https://localhost:8080/",
          "height": 232
        },
        "id": "Ix-VbMi9NaPu",
        "outputId": "5f7c70ab-8af7-4f4f-e9fc-91cb49dd368d"
      },
      "execution_count": 90,
      "outputs": [
        {
          "output_type": "display_data",
          "data": {
            "text/plain": [
              "<Figure size 640x480 with 1 Axes>"
            ],
            "image/png": "[encoded data removed]"
          },
          "metadata": {}
        }
      ]
    },
    {
      "cell_type": "code",
      "source": [
        "# Subplot 6: Histogram\n",
        "plt.subplot(3, 4, 6)\n",
        "plt.hist(df['Umur_Berbunga'], bins=8, edgecolor='black', alpha=0.7, color='orange')\n",
        "plt.title('Distribusi Umur Berbunga')\n",
        "plt.xlabel('Umur Berbunga (hari)')\n",
        "plt.ylabel('Frekuensi')"
      ],
      "metadata": {
        "colab": {
          "base_uri": "https://localhost:8080/",
          "height": 229
        },
        "id": "x4NTVNFNNmic",
        "outputId": "62419901-55a8-4746-e42d-7dbbe121e0e0"
      },
      "execution_count": 91,
      "outputs": [
        {
          "output_type": "execute_result",
          "data": {
            "text/plain": [
              "Text(0, 0.5, 'Frekuensi')"
            ]
          },
          "metadata": {},
          "execution_count": 91
        },
        {
          "output_type": "display_data",
          "data": {
            "text/plain": [
              "<Figure size 640x480 with 1 Axes>"
            ],
            "image/png": "[encoded data removed]"
          },
          "metadata": {}
        }
      ]
    },
    {
      "cell_type": "code",
      "source": [
        "# Subplot 7: Bar plot rata-rata vernalisasi\n",
        "plt.subplot(3, 4, 7)\n",
        "vern_means = df.groupby('Lama_Vernalisasi')['Umur_Berbunga'].mean()\n",
        "bars1 = plt.bar(vern_means.index, vern_means.values, color='skyblue', alpha=0.8)\n",
        "plt.title('Rata-rata Umur Berbunga\\nper Lama Vernalisasi')\n",
        "plt.xlabel('Lama Vernalisasi (hari)')\n",
        "plt.ylabel('Rata-rata Umur Berbunga')\n",
        "for bar, val in zip(bars1, vern_means.values):\n",
        "    plt.text(bar.get_x() + bar.get_width()/2, bar.get_height() + 0.5,\n",
        "             f'{val:.1f}', ha='center', va='bottom')"
      ],
      "metadata": {
        "colab": {
          "base_uri": "https://localhost:8080/",
          "height": 232
        },
        "id": "FsyDw0WaNqX6",
        "outputId": "5836ba6f-6398-4465-9da2-a6536347c1ca"
      },
      "execution_count": 92,
      "outputs": [
        {
          "output_type": "display_data",
          "data": {
            "text/plain": [
              "<Figure size 640x480 with 1 Axes>"
            ],
            "image/png": "[encoded data removed]"
          },
          "metadata": {}
        }
      ]
    },
    {
      "cell_type": "code",
      "source": [
        "# Subplot 8: Bar plot rata-rata GA3\n",
        "plt.subplot(3, 4, 8)\n",
        "ga3_means = df.groupby('Konsentrasi_GA3')['Umur_Berbunga'].mean()\n",
        "bars2 = plt.bar(ga3_means.index, ga3_means.values, color='lightgreen', alpha=0.8)\n",
        "plt.title('Rata-rata Umur Berbunga\\nper Konsentrasi GA3')\n",
        "plt.xlabel('Konsentrasi GA3 (ppm)')\n",
        "plt.ylabel('Rata-rata Umur Berbunga')\n",
        "for bar, val in zip(bars2, ga3_means.values):\n",
        "    plt.text(bar.get_x() + bar.get_width()/2, bar.get_height() + 0.5,\n",
        "             f'{val:.1f}', ha='center', va='bottom')"
      ],
      "metadata": {
        "colab": {
          "base_uri": "https://localhost:8080/",
          "height": 232
        },
        "id": "GKZ3wYCbNtGd",
        "outputId": "2bda18f1-ac9f-4895-8ff9-3208ddfc33b2"
      },
      "execution_count": 93,
      "outputs": [
        {
          "output_type": "display_data",
          "data": {
            "text/plain": [
              "<Figure size 640x480 with 1 Axes>"
            ],
            "image/png": "[encoded data removed]"
          },
          "metadata": {}
        }
      ]
    },
    {
      "cell_type": "code",
      "source": [
        "# Subplot 9: Line plot trend vernalisasi\n",
        "plt.subplot(3, 4, 9)\n",
        "vern_sorted = vern_means.sort_index()\n",
        "plt.plot(vern_sorted.index, vern_sorted.values, marker='o', linewidth=2, markersize=8, color='blue')\n",
        "plt.title('Trend Umur Berbunga vs\\nLama Vernalisasi')\n",
        "plt.xlabel('Lama Vernalisasi (hari)')\n",
        "plt.ylabel('Rata-rata Umur Berbunga')\n",
        "plt.grid(True, alpha=0.3)"
      ],
      "metadata": {
        "colab": {
          "base_uri": "https://localhost:8080/",
          "height": 232
        },
        "id": "VYcIDV56NtLD",
        "outputId": "0ec5dc2c-ee64-49ad-acb4-689d27d35d53"
      },
      "execution_count": 94,
      "outputs": [
        {
          "output_type": "display_data",
          "data": {
            "text/plain": [
              "<Figure size 640x480 with 1 Axes>"
            ],
            "image/png": "[encoded data removed]"
          },
          "metadata": {}
        }
      ]
    },
    {
      "cell_type": "code",
      "source": [
        "# Subplot 10: Line plot trend GA3\n",
        "plt.subplot(3, 4, 10)\n",
        "ga3_sorted = ga3_means.sort_index()\n",
        "plt.plot(ga3_sorted.index, ga3_sorted.values, marker='s', linewidth=2, markersize=8, color='green')\n",
        "plt.title('Trend Umur Berbunga vs\\nKonsentrasi GA3')\n",
        "plt.xlabel('Konsentrasi GA3 (ppm)')\n",
        "plt.ylabel('Rata-rata Umur Berbunga')\n",
        "plt.grid(True, alpha=0.3)"
      ],
      "metadata": {
        "colab": {
          "base_uri": "https://localhost:8080/",
          "height": 232
        },
        "id": "SLQPywgyNtPX",
        "outputId": "16f55544-53d3-4e38-9890-134c8dfe9572"
      },
      "execution_count": 95,
      "outputs": [
        {
          "output_type": "display_data",
          "data": {
            "text/plain": [
              "<Figure size 640x480 with 1 Axes>"
            ],
            "image/png": "[encoded data removed]"
          },
          "metadata": {}
        }
      ]
    },
    {
      "cell_type": "code",
      "source": [
        "# Subplot 11: 3D scatter (simulasi)\n",
        "plt.subplot(3, 4, 11)\n",
        "plt.scatter(df['Lama_Vernalisasi'], df['Konsentrasi_GA3'],\n",
        "           s=df['Umur_Berbunga']*10, alpha=0.6, c=df['Umur_Berbunga'], cmap='viridis')\n",
        "plt.colorbar(label='Umur Berbunga')\n",
        "plt.title('Bubble Plot\\n(size = umur berbunga)')\n",
        "plt.xlabel('Lama Vernalisasi (hari)')\n",
        "plt.ylabel('Konsentrasi GA3 (ppm)')"
      ],
      "metadata": {
        "colab": {
          "base_uri": "https://localhost:8080/",
          "height": 250
        },
        "id": "BSu0Zc78NzQt",
        "outputId": "5dda7538-d014-4d9b-806f-d250592ed115"
      },
      "execution_count": 96,
      "outputs": [
        {
          "output_type": "execute_result",
          "data": {
            "text/plain": [
              "Text(0, 0.5, 'Konsentrasi GA3 (ppm)')"
            ]
          },
          "metadata": {},
          "execution_count": 96
        },
        {
          "output_type": "display_data",
          "data": {
            "text/plain": [
              "<Figure size 640x480 with 2 Axes>"
            ],
            "image/png": "[encoded data removed]"
          },
          "metadata": {}
        }
      ]
    },
    {
      "cell_type": "code",
      "source": [
        "# Subplot 12: Residual analysis\n",
        "plt.subplot(3, 4, 12)\n",
        "predicted_vern = intercept_vern + slope_vern * df['Lama_Vernalisasi']\n",
        "residuals = df['Umur_Berbunga'] - predicted_vern\n",
        "plt.scatter(predicted_vern, residuals, alpha=0.7)\n",
        "plt.axhline(y=0, color='r', linestyle='--')\n",
        "plt.title('Analisis Residual')\n",
        "plt.xlabel('Nilai Prediksi')\n",
        "plt.ylabel('Residual')\n",
        "plt.grid(True, alpha=0.3)\n",
        "\n",
        "plt.tight_layout()\n",
        "plt.show()"
      ],
      "metadata": {
        "colab": {
          "base_uri": "https://localhost:8080/",
          "height": 213
        },
        "id": "GEeVLhH1NzVJ",
        "outputId": "e3c3ce69-0640-4a13-dcc0-3f7b5be5bded"
      },
      "execution_count": 97,
      "outputs": [
        {
          "output_type": "display_data",
          "data": {
            "text/plain": [
              "<Figure size 640x480 with 1 Axes>"
            ],
            "image/png": "[encoded data removed]"
          },
          "metadata": {}
        }
      ]
    },
    {
      "cell_type": "markdown",
      "source": [
        "**KESIMPULAN**"
      ],
      "metadata": {
        "id": "5OIHW96EQt3Y"
      }
    },
    {
      "cell_type": "code",
      "source": [
        "print(\"\\n=== KESIMPULAN ANALISIS ===\")\n",
        "best_vern = vern_means.idxmin() if len(vern_means) > 0 else \"Tidak tersedia\"\n",
        "best_ga3 = ga3_means.idxmin() if len(ga3_means) > 0 else \"Tidak tersedia\"\n",
        "\n",
        "print(f\"1. Rata-rata umur berbunga keseluruhan: {df['Umur_Berbunga'].mean():.2f} hari\")\n",
        "print(f\"2. Lama vernalisasi terbaik (umur berbunga tercepat): {best_vern} hari dengan rata-rata {vern_means.min():.2f} hari\" if len(vern_means) > 0 else \"2. Data vernalisasi tidak cukup\")\n",
        "print(f\"3. Konsentrasi GA3 terbaik (umur berbunga tercepat): {best_ga3} ppm dengan rata-rata {ga3_means.min():.2f} hari\" if len(ga3_means) > 0 else \"3. Data GA3 tidak cukup\")\n",
        "\n",
        "if 'p_value_vern' in locals() and p_value_vern < 0.05:\n",
        "    print(\"4. SIGNIFIKAN: Lama vernalisasi berpengaruh signifikan terhadap umur berbunga\")\n",
        "else:\n",
        "    print(\"4. TIDAK SIGNIFIKAN: Lama vernalisasi tidak berpengaruh signifikan terhadap umur berbunga\")\n",
        "\n",
        "if 'p_value_ga3' in locals() and p_value_ga3 < 0.05:\n",
        "    print(\"5. SIGNIFIKAN: Konsentrasi GA3 berpengaruh signifikan terhadap umur berbunga\")\n",
        "else:\n",
        "    print(\"5. TIDAK SIGNIFIKAN: Konsentrasi GA3 tidak berpengaruh signifikan terhadap umur berbunga\")\n",
        "\n",
        "print(f\"6. Korelasi vernalisasi-umur berbunga: {correlation_matrix.loc['Lama_Vernalisasi', 'Umur_Berbunga']:.3f}\")\n",
        "print(f\"7. Korelasi GA3-umur berbunga: {correlation_matrix.loc['Konsentrasi_GA3', 'Umur_Berbunga']:.3f}\")\n",
        "\n",
        "print(\"\\n=== REKOMENDASI BERDASARKAN ANALISIS ===\")\n",
        "if len(vern_means) > 0:\n",
        "    print(f\"• Gunakan lama vernalisasi {best_vern} hari untuk mempercepat pembungaan\")\n",
        "if len(ga3_means) > 0:\n",
        "    print(f\"• Gunakan konsentrasi GA3 {best_ga3} ppm untuk hasil optimal\")\n",
        "print(\"• Pertimbangkan kombinasi perlakuan yang memberikan umur berbunga terendah\")\n",
        "print(\"• Lakukan percobaan tambahan untuk mengisi missing values\")\n",
        "print(\"• Evaluasi efisiensi desain RBRTLS dengan data lengkap\")\n",
        "\n",
        "print(f\"\\n=== EVALUASI DESAIN PERCOBAAN ===\")\n",
        "print(f\"• Efisiensi desain RBRTLS: {efficiency:.1%}\")\n",
        "print(f\"• Jumlah data tersedia: {len(df)}/16 ({len(df)/16*100:.1f}%)\")\n",
        "print(\"• Desain ini cocok untuk kondisi dimana tidak semua kombinasi perlakuan dapat diuji\")\n",
        "print(\"• Missing values dapat diestimasi menggunakan analisis residual atau metode imputasi\")"
      ],
      "metadata": {
        "colab": {
          "base_uri": "https://localhost:8080/"
        },
        "id": "yKwv7DgwNzZ_",
        "outputId": "7a331d49-5386-44ce-8604-1e4414814c7f"
      },
      "execution_count": 98,
      "outputs": [
        {
          "output_type": "stream",
          "name": "stdout",
          "text": [
            "\n",
            "=== KESIMPULAN ANALISIS ===\n",
            "1. Rata-rata umur berbunga keseluruhan: 40.17 hari\n",
            "2. Lama vernalisasi terbaik (umur berbunga tercepat): 28 hari dengan rata-rata 38.00 hari\n",
            "3. Konsentrasi GA3 terbaik (umur berbunga tercepat): 0 ppm dengan rata-rata 38.00 hari\n",
            "4. TIDAK SIGNIFIKAN: Lama vernalisasi tidak berpengaruh signifikan terhadap umur berbunga\n",
            "5. TIDAK SIGNIFIKAN: Konsentrasi GA3 tidak berpengaruh signifikan terhadap umur berbunga\n",
            "6. Korelasi vernalisasi-umur berbunga: -0.373\n",
            "7. Korelasi GA3-umur berbunga: 0.178\n",
            "\n",
            "=== REKOMENDASI BERDASARKAN ANALISIS ===\n",
            "• Gunakan lama vernalisasi 28 hari untuk mempercepat pembungaan\n",
            "• Gunakan konsentrasi GA3 0 ppm untuk hasil optimal\n",
            "• Pertimbangkan kombinasi perlakuan yang memberikan umur berbunga terendah\n",
            "• Lakukan percobaan tambahan untuk mengisi missing values\n",
            "• Evaluasi efisiensi desain RBRTLS dengan data lengkap\n",
            "\n",
            "=== EVALUASI DESAIN PERCOBAAN ===\n",
            "• Efisiensi desain RBRTLS: 133.3%\n",
            "• Jumlah data tersedia: 12/16 (75.0%)\n",
            "• Desain ini cocok untuk kondisi dimana tidak semua kombinasi perlakuan dapat diuji\n",
            "• Missing values dapat diestimasi menggunakan analisis residual atau metode imputasi\n"
          ]
        }
      ]
    },
    {
      "cell_type": "markdown",
      "source": [
        "Berdasarkan hasil analisis, diketahui bahwa rata-rata umur berbunga secara keseluruhan adalah 40,17 hari. Perlakuan dengan lama vernalisasi 28 hari dan konsentrasi GA3 sebesar 0 ppm menunjukkan hasil terbaik dengan rata-rata umur berbunga tercepat, yaitu masing-masing sebesar 38,00 hari. Namun demikian, hasil uji statistik menunjukkan bahwa tidak terdapat pengaruh yang signifikan baik dari perlakuan lama vernalisasi maupun dari konsentrasi GA3 terhadap umur berbunga. Korelasi antara lama vernalisasi dan umur berbunga bersifat negatif sedang sebesar -0,373, menunjukkan kecenderungan bahwa semakin lama perlakuan vernalisasi, umur berbunga cenderung lebih singkat. Sebaliknya, korelasi antara konsentrasi GA3 dan umur berbunga cukup lemah, yaitu sebesar 0,178.\n",
        "\n",
        "Berdasarkan temuan tersebut, disarankan untuk menggunakan perlakuan vernalisasi selama 28 hari dan konsentrasi GA3 0 ppm guna memperoleh umur berbunga yang lebih cepat. Kombinasi perlakuan dengan hasil terbaik juga perlu diperhatikan lebih lanjut. Selain itu, karena data yang tersedia hanya 75% dari total rencana (12 dari 16 kombinasi perlakuan), disarankan untuk melakukan percobaan tambahan guna melengkapi data yang hilang, serta mengevaluasi kembali desain percobaan dengan mempertimbangkan metode imputasi atau analisis residual. Efisiensi desain RBRTLS pada percobaan ini mencapai 133,3%, yang menunjukkan bahwa desain ini tetap efektif digunakan dalam kondisi di mana tidak semua kombinasi perlakuan dapat diobservasi secara langsung."
      ],
      "metadata": {
        "id": "euGUxlNJOAhr"
      }
    }
  ]
}